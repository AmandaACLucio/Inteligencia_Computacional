{
 "cells": [
  {
   "cell_type": "markdown",
   "metadata": {},
   "source": [
    "# Exercício - Regressão Linear\n",
    "\n",
    "## E-commerce: App & Web\n",
    "\n",
    "O dataset para este exercício foi retirado do site www.kaggle.com. Este dataset é referente uma empresa de comércio eletrônico com sede na cidade de Nova York que vende roupas on-line, mas elas também têm sessões de aconselhamento sobre estilo e roupas na loja. Os clientes entram na loja, realizam reuniões com um estilista pessoal e podem ir para casa e pedir em um aplicativo móvel ou site para as roupas que desejam.\n",
    "\n",
    "A empresa está tentando decidir se deve concentrar seus esforços na experiência de aplicativos para dispositivos móveis ou no site. Eles o contrataram por contrato para ajudá-los a descobrir!\n",
    "\n",
    "**Trabalharemos com o arquivo csv dos clientes de comércio eletrônico da empresa. Possui informações do cliente, como email, endereço e avatar colorido. Também possui colunas de valores numéricos:**\n",
    "\n",
    "* Avg. Session Length: Média dos tempos em minutos de aconselhamento com o estilista da loja.\n",
    "* Time on App: tempo médio gasto no aplicativo em minutos.\n",
    "* Time on Website:  tempo médio gasto no site em minutos.\n",
    "* Length of Membership: Tempo em anos que o consumidor é cliente. \n",
    "\n",
    "\n",
    "## Vamos começar!\n",
    "\n"
   ]
  },
  {
   "cell_type": "markdown",
   "metadata": {},
   "source": [
    "## Importando as bibliotecas"
   ]
  },
  {
   "cell_type": "code",
   "execution_count": null,
   "metadata": {},
   "outputs": [],
   "source": []
  },
  {
   "cell_type": "markdown",
   "metadata": {},
   "source": [
    "## Carregando os dados\n",
    "\n",
    "\n",
    "\n",
    "**Leia no arquivo csv 'Ecommerce Customers' como um DataFrame chamado customers.**"
   ]
  },
  {
   "cell_type": "code",
   "execution_count": null,
   "metadata": {},
   "outputs": [],
   "source": []
  },
  {
   "cell_type": "markdown",
   "metadata": {},
   "source": [
    "**Confira as informações do Dataset**"
   ]
  },
  {
   "cell_type": "code",
   "execution_count": null,
   "metadata": {},
   "outputs": [],
   "source": []
  },
  {
   "cell_type": "markdown",
   "metadata": {},
   "source": [
    "**Análise exploratória**"
   ]
  },
  {
   "cell_type": "code",
   "execution_count": null,
   "metadata": {},
   "outputs": [],
   "source": []
  },
  {
   "cell_type": "markdown",
   "metadata": {},
   "source": [
    "## Dados de treinamento e teste\n",
    "\n",
    "Agora que exploramos um pouco os dados, vamos dividir os dados em conjuntos de treinamento e teste."
   ]
  },
  {
   "cell_type": "code",
   "execution_count": null,
   "metadata": {},
   "outputs": [],
   "source": []
  },
  {
   "cell_type": "code",
   "execution_count": null,
   "metadata": {},
   "outputs": [],
   "source": []
  },
  {
   "cell_type": "markdown",
   "metadata": {},
   "source": [
    "**Use model_selection.train_test_split do sklearn para dividir os dados em conjuntos de treinamento e teste.** \n",
    "\n",
    "**Defina test_size = 0.3 e random_state = 101**"
   ]
  },
  {
   "cell_type": "code",
   "execution_count": null,
   "metadata": {},
   "outputs": [],
   "source": []
  },
  {
   "cell_type": "code",
   "execution_count": null,
   "metadata": {},
   "outputs": [],
   "source": []
  },
  {
   "cell_type": "markdown",
   "metadata": {},
   "source": [
    "### Regressão Linear dos mínimos quadrados ordinários"
   ]
  },
  {
   "cell_type": "code",
   "execution_count": null,
   "metadata": {},
   "outputs": [],
   "source": []
  },
  {
   "cell_type": "code",
   "execution_count": null,
   "metadata": {},
   "outputs": [],
   "source": []
  },
  {
   "cell_type": "code",
   "execution_count": null,
   "metadata": {},
   "outputs": [],
   "source": []
  },
  {
   "cell_type": "markdown",
   "metadata": {},
   "source": [
    "### Avaliando o modelo"
   ]
  },
  {
   "cell_type": "code",
   "execution_count": null,
   "metadata": {},
   "outputs": [],
   "source": []
  },
  {
   "cell_type": "markdown",
   "metadata": {},
   "source": [
    "## Previsões do modelo\n",
    "\n",
    "Vamos avaliar as previsões do nosso conjunto de testes!"
   ]
  },
  {
   "cell_type": "code",
   "execution_count": null,
   "metadata": {},
   "outputs": [],
   "source": []
  },
  {
   "cell_type": "code",
   "execution_count": null,
   "metadata": {},
   "outputs": [],
   "source": []
  },
  {
   "cell_type": "markdown",
   "metadata": {},
   "source": [
    "### Métricas de avalição"
   ]
  },
  {
   "cell_type": "code",
   "execution_count": null,
   "metadata": {},
   "outputs": [],
   "source": []
  },
  {
   "cell_type": "markdown",
   "metadata": {},
   "source": [
    "## Discuta os resultados\n",
    "\n",
    "Ainda queremos descobrir a resposta para a pergunta original. Concentramos nosso esforço no desenvolvimento de aplicativos para dispositivos móveis ou sites? Ou talvez isso realmente não importe, e o tempo de associação é o que é realmente importante.\n"
   ]
  },
  {
   "cell_type": "markdown",
   "metadata": {},
   "source": [
    "**Vamos ver se podemos interpretar os coeficientes para ter uma ideia:**\n"
   ]
  },
  {
   "cell_type": "markdown",
   "metadata": {},
   "source": [
    "**Você acha que a empresa deveria se concentrar mais no aplicativo para celular ou no site?**"
   ]
  }
 ],
 "metadata": {
  "kernelspec": {
   "display_name": "Python 3",
   "language": "python",
   "name": "python3"
  },
  "language_info": {
   "codemirror_mode": {
    "name": "ipython",
    "version": 3
   },
   "file_extension": ".py",
   "mimetype": "text/x-python",
   "name": "python",
   "nbconvert_exporter": "python",
   "pygments_lexer": "ipython3",
   "version": "3.8.5"
  }
 },
 "nbformat": 4,
 "nbformat_minor": 1
}
