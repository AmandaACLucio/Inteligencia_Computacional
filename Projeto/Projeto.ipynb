{
 "cells": [
  {
   "cell_type": "markdown",
   "metadata": {},
   "source": [
    "# Projeto - Cálculo do diâmetro de um asteroide\n",
    "\n",
    "#### Amanda Lucio, Nayara Gomes"
   ]
  },
  {
   "cell_type": "markdown",
   "metadata": {},
   "source": [
    "O objetivo dos modelos é medir o diâmetro de um asteroide a partir de medidas sobre o mesmo. O *Dataset* utilizado será  **\"Open Asteroid Dataset\"** retirado do site https://www.kaggle.com."
   ]
  },
  {
   "cell_type": "markdown",
   "metadata": {},
   "source": [
    "Após baixar no Kaggle o arquivo *Asteroid_Updated.csv* contendo os dados sobre asteroides, vamos preparar nosso ambiente com as bibliotecas necessárias e depois importaremos os dados!"
   ]
  },
  {
   "cell_type": "markdown",
   "metadata": {},
   "source": [
    "## Importando as bibliotecas"
   ]
  },
  {
   "cell_type": "code",
   "execution_count": 30,
   "metadata": {},
   "outputs": [],
   "source": [
    "import pandas as pd\n",
    "import numpy as np\n",
    "import matplotlib.pyplot as plt\n",
    "import seaborn as sns\n",
    "from scipy import stats\n",
    "from sklearn.model_selection import train_test_split\n",
    "\n",
    "from sklearn.linear_model import LinearRegression\n",
    "\n",
    "from sklearn.model_selection import KFold\n",
    "from sklearn import metrics\n",
    "from sklearn.model_selection import cross_val_score\n",
    "\n",
    "from sklearn.tree import DecisionTreeClassifier, plot_tree\n",
    "\n",
    "%matplotlib inline"
   ]
  },
  {
   "cell_type": "code",
   "execution_count": 31,
   "metadata": {},
   "outputs": [
    {
     "name": "stderr",
     "output_type": "stream",
     "text": [
      "c:\\users\\amand\\appdata\\local\\programs\\python\\python38-32\\lib\\site-packages\\IPython\\core\\interactiveshell.py:3155: DtypeWarning: Columns (0,10,15,16,23,24) have mixed types.Specify dtype option on import or set low_memory=False.\n",
      "  has_raised = await self.run_ast_nodes(code_ast.body, cell_name,\n"
     ]
    },
    {
     "data": {
      "text/html": [
       "<div>\n",
       "<style scoped>\n",
       "    .dataframe tbody tr th:only-of-type {\n",
       "        vertical-align: middle;\n",
       "    }\n",
       "\n",
       "    .dataframe tbody tr th {\n",
       "        vertical-align: top;\n",
       "    }\n",
       "\n",
       "    .dataframe thead th {\n",
       "        text-align: right;\n",
       "    }\n",
       "</style>\n",
       "<table border=\"1\" class=\"dataframe\">\n",
       "  <thead>\n",
       "    <tr style=\"text-align: right;\">\n",
       "      <th></th>\n",
       "      <th>name</th>\n",
       "      <th>a</th>\n",
       "      <th>e</th>\n",
       "      <th>i</th>\n",
       "      <th>om</th>\n",
       "      <th>w</th>\n",
       "      <th>q</th>\n",
       "      <th>ad</th>\n",
       "      <th>per_y</th>\n",
       "      <th>data_arc</th>\n",
       "      <th>...</th>\n",
       "      <th>UB</th>\n",
       "      <th>IR</th>\n",
       "      <th>spec_B</th>\n",
       "      <th>spec_T</th>\n",
       "      <th>G</th>\n",
       "      <th>moid</th>\n",
       "      <th>class</th>\n",
       "      <th>n</th>\n",
       "      <th>per</th>\n",
       "      <th>ma</th>\n",
       "    </tr>\n",
       "  </thead>\n",
       "  <tbody>\n",
       "    <tr>\n",
       "      <th>0</th>\n",
       "      <td>Ceres</td>\n",
       "      <td>2.769165</td>\n",
       "      <td>0.076009</td>\n",
       "      <td>10.594067</td>\n",
       "      <td>80.305532</td>\n",
       "      <td>73.597694</td>\n",
       "      <td>2.558684</td>\n",
       "      <td>2.979647</td>\n",
       "      <td>4.608202</td>\n",
       "      <td>8822.0</td>\n",
       "      <td>...</td>\n",
       "      <td>0.426</td>\n",
       "      <td>NaN</td>\n",
       "      <td>C</td>\n",
       "      <td>G</td>\n",
       "      <td>0.12</td>\n",
       "      <td>1.59478</td>\n",
       "      <td>MBA</td>\n",
       "      <td>0.213885</td>\n",
       "      <td>1683.145708</td>\n",
       "      <td>77.372096</td>\n",
       "    </tr>\n",
       "    <tr>\n",
       "      <th>1</th>\n",
       "      <td>Pallas</td>\n",
       "      <td>2.772466</td>\n",
       "      <td>0.230337</td>\n",
       "      <td>34.836234</td>\n",
       "      <td>173.080063</td>\n",
       "      <td>310.048857</td>\n",
       "      <td>2.133865</td>\n",
       "      <td>3.411067</td>\n",
       "      <td>4.616444</td>\n",
       "      <td>72318.0</td>\n",
       "      <td>...</td>\n",
       "      <td>0.284</td>\n",
       "      <td>NaN</td>\n",
       "      <td>B</td>\n",
       "      <td>B</td>\n",
       "      <td>0.11</td>\n",
       "      <td>1.23324</td>\n",
       "      <td>MBA</td>\n",
       "      <td>0.213503</td>\n",
       "      <td>1686.155999</td>\n",
       "      <td>59.699133</td>\n",
       "    </tr>\n",
       "    <tr>\n",
       "      <th>2</th>\n",
       "      <td>Juno</td>\n",
       "      <td>2.669150</td>\n",
       "      <td>0.256942</td>\n",
       "      <td>12.988919</td>\n",
       "      <td>169.852760</td>\n",
       "      <td>248.138626</td>\n",
       "      <td>1.983332</td>\n",
       "      <td>3.354967</td>\n",
       "      <td>4.360814</td>\n",
       "      <td>72684.0</td>\n",
       "      <td>...</td>\n",
       "      <td>0.433</td>\n",
       "      <td>NaN</td>\n",
       "      <td>Sk</td>\n",
       "      <td>S</td>\n",
       "      <td>0.32</td>\n",
       "      <td>1.03454</td>\n",
       "      <td>MBA</td>\n",
       "      <td>0.226019</td>\n",
       "      <td>1592.787285</td>\n",
       "      <td>34.925016</td>\n",
       "    </tr>\n",
       "    <tr>\n",
       "      <th>3</th>\n",
       "      <td>Vesta</td>\n",
       "      <td>2.361418</td>\n",
       "      <td>0.088721</td>\n",
       "      <td>7.141771</td>\n",
       "      <td>103.810804</td>\n",
       "      <td>150.728541</td>\n",
       "      <td>2.151909</td>\n",
       "      <td>2.570926</td>\n",
       "      <td>3.628837</td>\n",
       "      <td>24288.0</td>\n",
       "      <td>...</td>\n",
       "      <td>0.492</td>\n",
       "      <td>NaN</td>\n",
       "      <td>V</td>\n",
       "      <td>V</td>\n",
       "      <td>0.32</td>\n",
       "      <td>1.13948</td>\n",
       "      <td>MBA</td>\n",
       "      <td>0.271609</td>\n",
       "      <td>1325.432765</td>\n",
       "      <td>95.861936</td>\n",
       "    </tr>\n",
       "    <tr>\n",
       "      <th>4</th>\n",
       "      <td>Astraea</td>\n",
       "      <td>2.574249</td>\n",
       "      <td>0.191095</td>\n",
       "      <td>5.366988</td>\n",
       "      <td>141.576605</td>\n",
       "      <td>358.687607</td>\n",
       "      <td>2.082324</td>\n",
       "      <td>3.066174</td>\n",
       "      <td>4.130323</td>\n",
       "      <td>63507.0</td>\n",
       "      <td>...</td>\n",
       "      <td>0.411</td>\n",
       "      <td>NaN</td>\n",
       "      <td>S</td>\n",
       "      <td>S</td>\n",
       "      <td>NaN</td>\n",
       "      <td>1.09589</td>\n",
       "      <td>MBA</td>\n",
       "      <td>0.238632</td>\n",
       "      <td>1508.600458</td>\n",
       "      <td>282.366289</td>\n",
       "    </tr>\n",
       "  </tbody>\n",
       "</table>\n",
       "<p>5 rows × 31 columns</p>\n",
       "</div>"
      ],
      "text/plain": [
       "      name         a         e          i          om           w         q  \\\n",
       "0    Ceres  2.769165  0.076009  10.594067   80.305532   73.597694  2.558684   \n",
       "1   Pallas  2.772466  0.230337  34.836234  173.080063  310.048857  2.133865   \n",
       "2     Juno  2.669150  0.256942  12.988919  169.852760  248.138626  1.983332   \n",
       "3    Vesta  2.361418  0.088721   7.141771  103.810804  150.728541  2.151909   \n",
       "4  Astraea  2.574249  0.191095   5.366988  141.576605  358.687607  2.082324   \n",
       "\n",
       "         ad     per_y  data_arc  ...     UB  IR  spec_B spec_T     G     moid  \\\n",
       "0  2.979647  4.608202    8822.0  ...  0.426 NaN       C      G  0.12  1.59478   \n",
       "1  3.411067  4.616444   72318.0  ...  0.284 NaN       B      B  0.11  1.23324   \n",
       "2  3.354967  4.360814   72684.0  ...  0.433 NaN      Sk      S  0.32  1.03454   \n",
       "3  2.570926  3.628837   24288.0  ...  0.492 NaN       V      V  0.32  1.13948   \n",
       "4  3.066174  4.130323   63507.0  ...  0.411 NaN       S      S   NaN  1.09589   \n",
       "\n",
       "  class         n          per          ma  \n",
       "0   MBA  0.213885  1683.145708   77.372096  \n",
       "1   MBA  0.213503  1686.155999   59.699133  \n",
       "2   MBA  0.226019  1592.787285   34.925016  \n",
       "3   MBA  0.271609  1325.432765   95.861936  \n",
       "4   MBA  0.238632  1508.600458  282.366289  \n",
       "\n",
       "[5 rows x 31 columns]"
      ]
     },
     "execution_count": 31,
     "metadata": {},
     "output_type": "execute_result"
    }
   ],
   "source": [
    "dataAsteroid = pd.read_csv('Data/Asteroid.csv')\n",
    "dataAsteroid.head()"
   ]
  },
  {
   "cell_type": "markdown",
   "metadata": {},
   "source": []
  },
  {
   "cell_type": "markdown",
   "metadata": {},
   "source": [
    "### Variáveis do *Dataset*"
   ]
  },
  {
   "cell_type": "code",
   "execution_count": 32,
   "metadata": {},
   "outputs": [
    {
     "data": {
      "text/plain": [
       "Index(['name', 'a', 'e', 'i', 'om', 'w', 'q', 'ad', 'per_y', 'data_arc',\n",
       "       'condition_code', 'n_obs_used', 'H', 'neo', 'pha', 'diameter', 'extent',\n",
       "       'albedo', 'rot_per', 'GM', 'BV', 'UB', 'IR', 'spec_B', 'spec_T', 'G',\n",
       "       'moid', 'class', 'n', 'per', 'ma'],\n",
       "      dtype='object')"
      ]
     },
     "execution_count": 32,
     "metadata": {},
     "output_type": "execute_result"
    }
   ],
   "source": [
    "dataAsteroid.columns\n",
    "\n"
   ]
  },
  {
   "cell_type": "code",
   "execution_count": 33,
   "metadata": {},
   "outputs": [],
   "source": [
    "columns = ['a', 'e', 'i', 'om', 'w', 'q', 'ad', 'per_y', 'data_arc', 'n_obs_used', 'H', 'diameter','albedo', 'rot_per','moid', 'n', 'per', 'ma']\n",
    "\n",
    "dataAsteroid=dataAsteroid[columns]\n",
    "dataAsteroid = dataAsteroid.dropna(subset=[\"diameter\", \"rot_per\"])  #removendo linhas com diâmetro null\n",
    "dataAsteroid = dataAsteroid[pd.to_numeric(dataAsteroid['diameter'], errors='coerce').notnull()] #removendo linhas com valores não numéricos no diâmetro\n",
    "dataAsteroid = dataAsteroid.interpolate()\n",
    "\n",
    "dataAsteroid = dataAsteroid.astype(float)\n",
    "dataAsteroid = dataAsteroid.reset_index()\n"
   ]
  },
  {
   "cell_type": "code",
   "execution_count": 34,
   "metadata": {
    "scrolled": true
   },
   "outputs": [
    {
     "data": {
      "text/html": [
       "<div>\n",
       "<style scoped>\n",
       "    .dataframe tbody tr th:only-of-type {\n",
       "        vertical-align: middle;\n",
       "    }\n",
       "\n",
       "    .dataframe tbody tr th {\n",
       "        vertical-align: top;\n",
       "    }\n",
       "\n",
       "    .dataframe thead th {\n",
       "        text-align: right;\n",
       "    }\n",
       "</style>\n",
       "<table border=\"1\" class=\"dataframe\">\n",
       "  <thead>\n",
       "    <tr style=\"text-align: right;\">\n",
       "      <th></th>\n",
       "      <th>column_name</th>\n",
       "      <th>percent_missing</th>\n",
       "    </tr>\n",
       "  </thead>\n",
       "  <tbody>\n",
       "    <tr>\n",
       "      <th>index</th>\n",
       "      <td>index</td>\n",
       "      <td>0.0</td>\n",
       "    </tr>\n",
       "    <tr>\n",
       "      <th>n_obs_used</th>\n",
       "      <td>n_obs_used</td>\n",
       "      <td>0.0</td>\n",
       "    </tr>\n",
       "    <tr>\n",
       "      <th>per</th>\n",
       "      <td>per</td>\n",
       "      <td>0.0</td>\n",
       "    </tr>\n",
       "    <tr>\n",
       "      <th>n</th>\n",
       "      <td>n</td>\n",
       "      <td>0.0</td>\n",
       "    </tr>\n",
       "    <tr>\n",
       "      <th>moid</th>\n",
       "      <td>moid</td>\n",
       "      <td>0.0</td>\n",
       "    </tr>\n",
       "    <tr>\n",
       "      <th>rot_per</th>\n",
       "      <td>rot_per</td>\n",
       "      <td>0.0</td>\n",
       "    </tr>\n",
       "    <tr>\n",
       "      <th>albedo</th>\n",
       "      <td>albedo</td>\n",
       "      <td>0.0</td>\n",
       "    </tr>\n",
       "    <tr>\n",
       "      <th>diameter</th>\n",
       "      <td>diameter</td>\n",
       "      <td>0.0</td>\n",
       "    </tr>\n",
       "    <tr>\n",
       "      <th>H</th>\n",
       "      <td>H</td>\n",
       "      <td>0.0</td>\n",
       "    </tr>\n",
       "    <tr>\n",
       "      <th>data_arc</th>\n",
       "      <td>data_arc</td>\n",
       "      <td>0.0</td>\n",
       "    </tr>\n",
       "    <tr>\n",
       "      <th>a</th>\n",
       "      <td>a</td>\n",
       "      <td>0.0</td>\n",
       "    </tr>\n",
       "    <tr>\n",
       "      <th>per_y</th>\n",
       "      <td>per_y</td>\n",
       "      <td>0.0</td>\n",
       "    </tr>\n",
       "    <tr>\n",
       "      <th>ad</th>\n",
       "      <td>ad</td>\n",
       "      <td>0.0</td>\n",
       "    </tr>\n",
       "    <tr>\n",
       "      <th>q</th>\n",
       "      <td>q</td>\n",
       "      <td>0.0</td>\n",
       "    </tr>\n",
       "    <tr>\n",
       "      <th>w</th>\n",
       "      <td>w</td>\n",
       "      <td>0.0</td>\n",
       "    </tr>\n",
       "    <tr>\n",
       "      <th>om</th>\n",
       "      <td>om</td>\n",
       "      <td>0.0</td>\n",
       "    </tr>\n",
       "    <tr>\n",
       "      <th>i</th>\n",
       "      <td>i</td>\n",
       "      <td>0.0</td>\n",
       "    </tr>\n",
       "    <tr>\n",
       "      <th>e</th>\n",
       "      <td>e</td>\n",
       "      <td>0.0</td>\n",
       "    </tr>\n",
       "    <tr>\n",
       "      <th>ma</th>\n",
       "      <td>ma</td>\n",
       "      <td>0.0</td>\n",
       "    </tr>\n",
       "  </tbody>\n",
       "</table>\n",
       "</div>"
      ],
      "text/plain": [
       "           column_name  percent_missing\n",
       "index            index              0.0\n",
       "n_obs_used  n_obs_used              0.0\n",
       "per                per              0.0\n",
       "n                    n              0.0\n",
       "moid              moid              0.0\n",
       "rot_per        rot_per              0.0\n",
       "albedo          albedo              0.0\n",
       "diameter      diameter              0.0\n",
       "H                    H              0.0\n",
       "data_arc      data_arc              0.0\n",
       "a                    a              0.0\n",
       "per_y            per_y              0.0\n",
       "ad                  ad              0.0\n",
       "q                    q              0.0\n",
       "w                    w              0.0\n",
       "om                  om              0.0\n",
       "i                    i              0.0\n",
       "e                    e              0.0\n",
       "ma                  ma              0.0"
      ]
     },
     "execution_count": 34,
     "metadata": {},
     "output_type": "execute_result"
    }
   ],
   "source": [
    "percent_missing = dataAsteroid.isnull().sum() * 100 / len(dataAsteroid)\n",
    "missing_value_df = pd.DataFrame({'column_name': dataAsteroid.columns,\n",
    "                                 'percent_missing': percent_missing})\n",
    "missing_value_df.sort_values('percent_missing', ascending=False)"
   ]
  },
  {
   "cell_type": "markdown",
   "metadata": {},
   "source": [
    "## Diminuindo Dataset"
   ]
  },
  {
   "cell_type": "code",
   "execution_count": 35,
   "metadata": {},
   "outputs": [
    {
     "data": {
      "text/plain": [
       "11187"
      ]
     },
     "execution_count": 35,
     "metadata": {},
     "output_type": "execute_result"
    }
   ],
   "source": [
    "len(dataAsteroid) #número de rows"
   ]
  },
  {
   "cell_type": "code",
   "execution_count": 36,
   "metadata": {},
   "outputs": [],
   "source": [
    "np.random.seed(10)\n",
    "\n",
    "remove_n = 5000\n",
    "dataAsteroid_indices = np.random.choice(dataAsteroid.index, remove_n, replace=False)\n",
    "dataAsteroid = dataAsteroid.drop(dataAsteroid_indices)"
   ]
  },
  {
   "cell_type": "code",
   "execution_count": 37,
   "metadata": {},
   "outputs": [
    {
     "data": {
      "text/plain": [
       "6187"
      ]
     },
     "execution_count": 37,
     "metadata": {},
     "output_type": "execute_result"
    }
   ],
   "source": [
    "len(dataAsteroid.index) #número de rows"
   ]
  },
  {
   "cell_type": "markdown",
   "metadata": {},
   "source": [
    "### Verificação da distribuição dos dados da variável resposta "
   ]
  },
  {
   "cell_type": "code",
   "execution_count": 38,
   "metadata": {
    "scrolled": true
   },
   "outputs": [
    {
     "name": "stderr",
     "output_type": "stream",
     "text": [
      "c:\\users\\amand\\appdata\\local\\programs\\python\\python38-32\\lib\\site-packages\\seaborn\\distributions.py:2619: FutureWarning: `distplot` is a deprecated function and will be removed in a future version. Please adapt your code to use either `displot` (a figure-level function with similar flexibility) or `histplot` (an axes-level function for histograms).\n",
      "  warnings.warn(msg, FutureWarning)\n"
     ]
    },
    {
     "data": {
      "image/png": "[encoded data removed]",
      "text/plain": [
       "<Figure size 432x288 with 1 Axes>"
      ]
     },
     "metadata": {
      "needs_background": "light"
     },
     "output_type": "display_data"
    }
   ],
   "source": [
    "sns.distplot(dataAsteroid['diameter'], color='black')\n",
    "plt.show()"
   ]
  },
  {
   "cell_type": "markdown",
   "metadata": {},
   "source": [
    "#### Histograma dos Valores por Atributo"
   ]
  },
  {
   "cell_type": "code",
   "execution_count": 39,
   "metadata": {},
   "outputs": [
    {
     "data": {
      "image/png": "[encoded data removed]",
      "text/plain": [
       "<Figure size 720x576 with 20 Axes>"
      ]
     },
     "metadata": {
      "needs_background": "light"
     },
     "output_type": "display_data"
    }
   ],
   "source": [
    "dataAsteroid.hist(figsize=(10,8))\n",
    "plt.tight_layout()\n",
    "plt.show()"
   ]
  },
  {
   "cell_type": "markdown",
   "metadata": {},
   "source": [
    "### Detectar e Remover outliers"
   ]
  },
  {
   "cell_type": "code",
   "execution_count": 40,
   "metadata": {},
   "outputs": [
    {
     "data": {
      "text/html": [
       "<div>\n",
       "<style scoped>\n",
       "    .dataframe tbody tr th:only-of-type {\n",
       "        vertical-align: middle;\n",
       "    }\n",
       "\n",
       "    .dataframe tbody tr th {\n",
       "        vertical-align: top;\n",
       "    }\n",
       "\n",
       "    .dataframe thead th {\n",
       "        text-align: right;\n",
       "    }\n",
       "</style>\n",
       "<table border=\"1\" class=\"dataframe\">\n",
       "  <thead>\n",
       "    <tr style=\"text-align: right;\">\n",
       "      <th></th>\n",
       "      <th>index</th>\n",
       "      <th>a</th>\n",
       "      <th>e</th>\n",
       "      <th>i</th>\n",
       "      <th>om</th>\n",
       "      <th>w</th>\n",
       "      <th>q</th>\n",
       "      <th>ad</th>\n",
       "      <th>per_y</th>\n",
       "      <th>data_arc</th>\n",
       "      <th>n_obs_used</th>\n",
       "      <th>H</th>\n",
       "      <th>diameter</th>\n",
       "      <th>albedo</th>\n",
       "      <th>rot_per</th>\n",
       "      <th>moid</th>\n",
       "      <th>n</th>\n",
       "      <th>per</th>\n",
       "      <th>ma</th>\n",
       "    </tr>\n",
       "  </thead>\n",
       "  <tbody>\n",
       "    <tr>\n",
       "      <th>count</th>\n",
       "      <td>6187.000000</td>\n",
       "      <td>6187.000000</td>\n",
       "      <td>6187.000000</td>\n",
       "      <td>6187.000000</td>\n",
       "      <td>6187.000000</td>\n",
       "      <td>6187.000000</td>\n",
       "      <td>6187.000000</td>\n",
       "      <td>6187.000000</td>\n",
       "      <td>6187.000000</td>\n",
       "      <td>6187.000000</td>\n",
       "      <td>6187.000000</td>\n",
       "      <td>6187.000000</td>\n",
       "      <td>6187.000000</td>\n",
       "      <td>6187.000000</td>\n",
       "      <td>6187.000000</td>\n",
       "      <td>6187.000000</td>\n",
       "      <td>6187.000000</td>\n",
       "      <td>6187.000000</td>\n",
       "      <td>6187.000000</td>\n",
       "    </tr>\n",
       "    <tr>\n",
       "      <th>mean</th>\n",
       "      <td>46417.691773</td>\n",
       "      <td>2.771367</td>\n",
       "      <td>0.150529</td>\n",
       "      <td>9.641778</td>\n",
       "      <td>179.065375</td>\n",
       "      <td>174.484696</td>\n",
       "      <td>2.362466</td>\n",
       "      <td>3.180267</td>\n",
       "      <td>4.783436</td>\n",
       "      <td>18045.848230</td>\n",
       "      <td>1561.024244</td>\n",
       "      <td>13.363132</td>\n",
       "      <td>15.346596</td>\n",
       "      <td>0.192023</td>\n",
       "      <td>24.308847</td>\n",
       "      <td>1.382984</td>\n",
       "      <td>0.236190</td>\n",
       "      <td>1747.150112</td>\n",
       "      <td>179.211183</td>\n",
       "    </tr>\n",
       "    <tr>\n",
       "      <th>std</th>\n",
       "      <td>74392.528002</td>\n",
       "      <td>1.043393</td>\n",
       "      <td>0.089519</td>\n",
       "      <td>6.896414</td>\n",
       "      <td>103.442906</td>\n",
       "      <td>104.530660</td>\n",
       "      <td>0.875875</td>\n",
       "      <td>1.315004</td>\n",
       "      <td>5.271623</td>\n",
       "      <td>11740.013609</td>\n",
       "      <td>766.355082</td>\n",
       "      <td>2.037210</td>\n",
       "      <td>29.859407</td>\n",
       "      <td>0.142964</td>\n",
       "      <td>80.031384</td>\n",
       "      <td>0.865042</td>\n",
       "      <td>0.100211</td>\n",
       "      <td>1925.460480</td>\n",
       "      <td>102.599775</td>\n",
       "    </tr>\n",
       "    <tr>\n",
       "      <th>min</th>\n",
       "      <td>1.000000</td>\n",
       "      <td>0.642196</td>\n",
       "      <td>0.001141</td>\n",
       "      <td>0.052952</td>\n",
       "      <td>0.000738</td>\n",
       "      <td>0.029757</td>\n",
       "      <td>0.139981</td>\n",
       "      <td>1.014592</td>\n",
       "      <td>0.514647</td>\n",
       "      <td>3.000000</td>\n",
       "      <td>58.000000</td>\n",
       "      <td>3.200000</td>\n",
       "      <td>0.002500</td>\n",
       "      <td>0.011600</td>\n",
       "      <td>0.043333</td>\n",
       "      <td>0.000316</td>\n",
       "      <td>0.003522</td>\n",
       "      <td>187.974705</td>\n",
       "      <td>0.057141</td>\n",
       "    </tr>\n",
       "    <tr>\n",
       "      <th>25%</th>\n",
       "      <td>3735.000000</td>\n",
       "      <td>2.383609</td>\n",
       "      <td>0.090047</td>\n",
       "      <td>4.417074</td>\n",
       "      <td>93.096088</td>\n",
       "      <td>84.189173</td>\n",
       "      <td>1.983817</td>\n",
       "      <td>2.785675</td>\n",
       "      <td>3.680110</td>\n",
       "      <td>8698.500000</td>\n",
       "      <td>969.000000</td>\n",
       "      <td>12.300000</td>\n",
       "      <td>3.975500</td>\n",
       "      <td>0.070000</td>\n",
       "      <td>4.605500</td>\n",
       "      <td>0.993422</td>\n",
       "      <td>0.187450</td>\n",
       "      <td>1344.160138</td>\n",
       "      <td>92.374138</td>\n",
       "    </tr>\n",
       "    <tr>\n",
       "      <th>50%</th>\n",
       "      <td>16209.000000</td>\n",
       "      <td>2.662095</td>\n",
       "      <td>0.138765</td>\n",
       "      <td>8.458982</td>\n",
       "      <td>173.233984</td>\n",
       "      <td>168.779481</td>\n",
       "      <td>2.263004</td>\n",
       "      <td>3.060116</td>\n",
       "      <td>4.343537</td>\n",
       "      <td>13887.000000</td>\n",
       "      <td>1546.000000</td>\n",
       "      <td>13.600000</td>\n",
       "      <td>6.557000</td>\n",
       "      <td>0.172000</td>\n",
       "      <td>7.510000</td>\n",
       "      <td>1.277340</td>\n",
       "      <td>0.226918</td>\n",
       "      <td>1586.477013</td>\n",
       "      <td>177.973012</td>\n",
       "    </tr>\n",
       "    <tr>\n",
       "      <th>75%</th>\n",
       "      <td>54653.000000</td>\n",
       "      <td>3.023746</td>\n",
       "      <td>0.193358</td>\n",
       "      <td>13.075859</td>\n",
       "      <td>271.117733</td>\n",
       "      <td>266.969942</td>\n",
       "      <td>2.652302</td>\n",
       "      <td>3.390486</td>\n",
       "      <td>5.258068</td>\n",
       "      <td>24633.000000</td>\n",
       "      <td>2111.500000</td>\n",
       "      <td>14.700000</td>\n",
       "      <td>12.671500</td>\n",
       "      <td>0.274000</td>\n",
       "      <td>14.877500</td>\n",
       "      <td>1.658425</td>\n",
       "      <td>0.267825</td>\n",
       "      <td>1920.509272</td>\n",
       "      <td>265.902440</td>\n",
       "    </tr>\n",
       "    <tr>\n",
       "      <th>max</th>\n",
       "      <td>729174.000000</td>\n",
       "      <td>42.781267</td>\n",
       "      <td>0.889898</td>\n",
       "      <td>64.006900</td>\n",
       "      <td>359.899762</td>\n",
       "      <td>359.988886</td>\n",
       "      <td>40.465671</td>\n",
       "      <td>47.240969</td>\n",
       "      <td>279.826385</td>\n",
       "      <td>72684.000000</td>\n",
       "      <td>9325.000000</td>\n",
       "      <td>29.900000</td>\n",
       "      <td>900.000000</td>\n",
       "      <td>1.000000</td>\n",
       "      <td>1641.000000</td>\n",
       "      <td>39.507000</td>\n",
       "      <td>1.915151</td>\n",
       "      <td>102206.587270</td>\n",
       "      <td>359.903144</td>\n",
       "    </tr>\n",
       "  </tbody>\n",
       "</table>\n",
       "</div>"
      ],
      "text/plain": [
       "               index            a            e            i           om  \\\n",
       "count    6187.000000  6187.000000  6187.000000  6187.000000  6187.000000   \n",
       "mean    46417.691773     2.771367     0.150529     9.641778   179.065375   \n",
       "std     74392.528002     1.043393     0.089519     6.896414   103.442906   \n",
       "min         1.000000     0.642196     0.001141     0.052952     0.000738   \n",
       "25%      3735.000000     2.383609     0.090047     4.417074    93.096088   \n",
       "50%     16209.000000     2.662095     0.138765     8.458982   173.233984   \n",
       "75%     54653.000000     3.023746     0.193358    13.075859   271.117733   \n",
       "max    729174.000000    42.781267     0.889898    64.006900   359.899762   \n",
       "\n",
       "                 w            q           ad        per_y      data_arc  \\\n",
       "count  6187.000000  6187.000000  6187.000000  6187.000000   6187.000000   \n",
       "mean    174.484696     2.362466     3.180267     4.783436  18045.848230   \n",
       "std     104.530660     0.875875     1.315004     5.271623  11740.013609   \n",
       "min       0.029757     0.139981     1.014592     0.514647      3.000000   \n",
       "25%      84.189173     1.983817     2.785675     3.680110   8698.500000   \n",
       "50%     168.779481     2.263004     3.060116     4.343537  13887.000000   \n",
       "75%     266.969942     2.652302     3.390486     5.258068  24633.000000   \n",
       "max     359.988886    40.465671    47.240969   279.826385  72684.000000   \n",
       "\n",
       "        n_obs_used            H     diameter       albedo      rot_per  \\\n",
       "count  6187.000000  6187.000000  6187.000000  6187.000000  6187.000000   \n",
       "mean   1561.024244    13.363132    15.346596     0.192023    24.308847   \n",
       "std     766.355082     2.037210    29.859407     0.142964    80.031384   \n",
       "min      58.000000     3.200000     0.002500     0.011600     0.043333   \n",
       "25%     969.000000    12.300000     3.975500     0.070000     4.605500   \n",
       "50%    1546.000000    13.600000     6.557000     0.172000     7.510000   \n",
       "75%    2111.500000    14.700000    12.671500     0.274000    14.877500   \n",
       "max    9325.000000    29.900000   900.000000     1.000000  1641.000000   \n",
       "\n",
       "              moid            n            per           ma  \n",
       "count  6187.000000  6187.000000    6187.000000  6187.000000  \n",
       "mean      1.382984     0.236190    1747.150112   179.211183  \n",
       "std       0.865042     0.100211    1925.460480   102.599775  \n",
       "min       0.000316     0.003522     187.974705     0.057141  \n",
       "25%       0.993422     0.187450    1344.160138    92.374138  \n",
       "50%       1.277340     0.226918    1586.477013   177.973012  \n",
       "75%       1.658425     0.267825    1920.509272   265.902440  \n",
       "max      39.507000     1.915151  102206.587270   359.903144  "
      ]
     },
     "execution_count": 40,
     "metadata": {},
     "output_type": "execute_result"
    }
   ],
   "source": [
    "dataAsteroid.describe()"
   ]
  },
  {
   "cell_type": "code",
   "execution_count": 41,
   "metadata": {},
   "outputs": [],
   "source": [
    "# Removendo outliers a partir dos valores acima\n",
    "numOfOutliers= len(dataAsteroid)- len(dataAsteroid[(np.abs(stats.zscore(dataAsteroid)) < 3).all(axis=1)])\n",
    "dataAsteroid=pd.DataFrame(dataAsteroid[(np.abs(stats.zscore(dataAsteroid)) < 3).all(axis=1)])\n",
    "\n",
    "# dataAsteroid = dataAsteroid[dataAsteroid.a < 20]\n",
    "# dataAsteroid = dataAsteroid[dataAsteroid.q < 6]\n",
    "# dataAsteroid = dataAsteroid[dataAsteroid.n_obs_used < 6000]\n",
    "# dataAsteroid = dataAsteroid[dataAsteroid.per_y < 15]\n",
    "# dataAsteroid = dataAsteroid[dataAsteroid.diameter < 400]\n",
    "# dataAsteroid = dataAsteroid.reset_index()"
   ]
  },
  {
   "cell_type": "markdown",
   "metadata": {},
   "source": [
    "### Analisando correlações"
   ]
  },
  {
   "cell_type": "code",
   "execution_count": 42,
   "metadata": {},
   "outputs": [
    {
     "data": {
      "text/plain": [
       "diameter      1.000000\n",
       "data_arc      0.642981\n",
       "n_obs_used    0.520335\n",
       "a             0.421545\n",
       "per_y         0.416301\n",
       "Name: diameter, dtype: float64"
      ]
     },
     "execution_count": 42,
     "metadata": {},
     "output_type": "execute_result"
    }
   ],
   "source": [
    "corr_matrix = dataAsteroid.corr()\n",
    "corr_matrix[\"diameter\"].sort_values(ascending=False).head()"
   ]
  },
  {
   "cell_type": "code",
   "execution_count": 43,
   "metadata": {},
   "outputs": [
    {
     "data": {
      "text/plain": [
       "<AxesSubplot:>"
      ]
     },
     "execution_count": 43,
     "metadata": {},
     "output_type": "execute_result"
    },
    {
     "data": {
      "image/png": "[encoded data removed]",
      "text/plain": [
       "<Figure size 1080x864 with 2 Axes>"
      ]
     },
     "metadata": {
      "needs_background": "light"
     },
     "output_type": "display_data"
    }
   ],
   "source": [
    "plt.subplots(figsize=(15,12))\n",
    "sns.heatmap(corr_matrix,annot=True,annot_kws={'size':10})"
   ]
  },
  {
   "cell_type": "markdown",
   "metadata": {},
   "source": [
    "### Separando Dados"
   ]
  },
  {
   "cell_type": "code",
   "execution_count": 44,
   "metadata": {},
   "outputs": [],
   "source": [
    "X = dataAsteroid.drop(['diameter'],axis = 1)\n",
    "y = dataAsteroid['diameter']\n",
    "#x_train, x_test, y_train, y_test = train_test_split(x, y, test_size=0.33, random_state=1242)\n"
   ]
  },
  {
   "cell_type": "code",
   "execution_count": 45,
   "metadata": {},
   "outputs": [
    {
     "data": {
      "text/html": [
       "<div>\n",
       "<style scoped>\n",
       "    .dataframe tbody tr th:only-of-type {\n",
       "        vertical-align: middle;\n",
       "    }\n",
       "\n",
       "    .dataframe tbody tr th {\n",
       "        vertical-align: top;\n",
       "    }\n",
       "\n",
       "    .dataframe thead th {\n",
       "        text-align: right;\n",
       "    }\n",
       "</style>\n",
       "<table border=\"1\" class=\"dataframe\">\n",
       "  <thead>\n",
       "    <tr style=\"text-align: right;\">\n",
       "      <th></th>\n",
       "      <th>index</th>\n",
       "      <th>a</th>\n",
       "      <th>e</th>\n",
       "      <th>i</th>\n",
       "      <th>om</th>\n",
       "      <th>w</th>\n",
       "      <th>q</th>\n",
       "      <th>ad</th>\n",
       "      <th>per_y</th>\n",
       "      <th>data_arc</th>\n",
       "      <th>n_obs_used</th>\n",
       "      <th>H</th>\n",
       "      <th>albedo</th>\n",
       "      <th>rot_per</th>\n",
       "      <th>moid</th>\n",
       "      <th>n</th>\n",
       "      <th>per</th>\n",
       "      <th>ma</th>\n",
       "    </tr>\n",
       "  </thead>\n",
       "  <tbody>\n",
       "    <tr>\n",
       "      <th>75</th>\n",
       "      <td>76</td>\n",
       "      <td>2.668111</td>\n",
       "      <td>0.132298</td>\n",
       "      <td>2.422958</td>\n",
       "      <td>1.149350</td>\n",
       "      <td>61.830284</td>\n",
       "      <td>2.315125</td>\n",
       "      <td>3.021097</td>\n",
       "      <td>4.358269</td>\n",
       "      <td>51236.0</td>\n",
       "      <td>2817.0</td>\n",
       "      <td>8.52</td>\n",
       "      <td>0.177</td>\n",
       "      <td>9.0120</td>\n",
       "      <td>1.329080</td>\n",
       "      <td>0.226151</td>\n",
       "      <td>1591.857740</td>\n",
       "      <td>283.372844</td>\n",
       "    </tr>\n",
       "    <tr>\n",
       "      <th>134</th>\n",
       "      <td>135</td>\n",
       "      <td>2.286339</td>\n",
       "      <td>0.085215</td>\n",
       "      <td>9.579216</td>\n",
       "      <td>186.454929</td>\n",
       "      <td>132.884873</td>\n",
       "      <td>2.091510</td>\n",
       "      <td>2.481169</td>\n",
       "      <td>3.457158</td>\n",
       "      <td>51977.0</td>\n",
       "      <td>2580.0</td>\n",
       "      <td>9.69</td>\n",
       "      <td>0.201</td>\n",
       "      <td>11.4969</td>\n",
       "      <td>1.091580</td>\n",
       "      <td>0.285097</td>\n",
       "      <td>1262.727053</td>\n",
       "      <td>216.903941</td>\n",
       "    </tr>\n",
       "    <tr>\n",
       "      <th>141</th>\n",
       "      <td>142</td>\n",
       "      <td>2.760357</td>\n",
       "      <td>0.074406</td>\n",
       "      <td>11.444569</td>\n",
       "      <td>332.983835</td>\n",
       "      <td>252.396104</td>\n",
       "      <td>2.554970</td>\n",
       "      <td>2.965745</td>\n",
       "      <td>4.586233</td>\n",
       "      <td>50966.0</td>\n",
       "      <td>2594.0</td>\n",
       "      <td>9.12</td>\n",
       "      <td>0.044</td>\n",
       "      <td>22.0050</td>\n",
       "      <td>1.575910</td>\n",
       "      <td>0.214910</td>\n",
       "      <td>1675.121685</td>\n",
       "      <td>81.082066</td>\n",
       "    </tr>\n",
       "    <tr>\n",
       "      <th>147</th>\n",
       "      <td>148</td>\n",
       "      <td>2.175205</td>\n",
       "      <td>0.064776</td>\n",
       "      <td>0.939377</td>\n",
       "      <td>159.609167</td>\n",
       "      <td>250.943865</td>\n",
       "      <td>2.034303</td>\n",
       "      <td>2.316107</td>\n",
       "      <td>3.208178</td>\n",
       "      <td>46784.0</td>\n",
       "      <td>2903.0</td>\n",
       "      <td>10.79</td>\n",
       "      <td>0.152</td>\n",
       "      <td>26.0230</td>\n",
       "      <td>1.044130</td>\n",
       "      <td>0.307223</td>\n",
       "      <td>1171.787013</td>\n",
       "      <td>227.627330</td>\n",
       "    </tr>\n",
       "    <tr>\n",
       "      <th>153</th>\n",
       "      <td>154</td>\n",
       "      <td>2.755993</td>\n",
       "      <td>0.277138</td>\n",
       "      <td>11.387527</td>\n",
       "      <td>40.994893</td>\n",
       "      <td>45.859915</td>\n",
       "      <td>1.992201</td>\n",
       "      <td>3.519784</td>\n",
       "      <td>4.575360</td>\n",
       "      <td>52511.0</td>\n",
       "      <td>2202.0</td>\n",
       "      <td>11.39</td>\n",
       "      <td>0.027</td>\n",
       "      <td>7.9597</td>\n",
       "      <td>1.025790</td>\n",
       "      <td>0.215420</td>\n",
       "      <td>1671.150404</td>\n",
       "      <td>89.093191</td>\n",
       "    </tr>\n",
       "    <tr>\n",
       "      <th>...</th>\n",
       "      <td>...</td>\n",
       "      <td>...</td>\n",
       "      <td>...</td>\n",
       "      <td>...</td>\n",
       "      <td>...</td>\n",
       "      <td>...</td>\n",
       "      <td>...</td>\n",
       "      <td>...</td>\n",
       "      <td>...</td>\n",
       "      <td>...</td>\n",
       "      <td>...</td>\n",
       "      <td>...</td>\n",
       "      <td>...</td>\n",
       "      <td>...</td>\n",
       "      <td>...</td>\n",
       "      <td>...</td>\n",
       "      <td>...</td>\n",
       "      <td>...</td>\n",
       "    </tr>\n",
       "    <tr>\n",
       "      <th>10922</th>\n",
       "      <td>255092</td>\n",
       "      <td>3.007410</td>\n",
       "      <td>0.118016</td>\n",
       "      <td>9.269796</td>\n",
       "      <td>216.051029</td>\n",
       "      <td>146.148770</td>\n",
       "      <td>2.652489</td>\n",
       "      <td>3.362332</td>\n",
       "      <td>5.215515</td>\n",
       "      <td>6817.0</td>\n",
       "      <td>346.0</td>\n",
       "      <td>15.70</td>\n",
       "      <td>0.146</td>\n",
       "      <td>3.1580</td>\n",
       "      <td>1.655920</td>\n",
       "      <td>0.188980</td>\n",
       "      <td>1904.966934</td>\n",
       "      <td>243.379447</td>\n",
       "    </tr>\n",
       "    <tr>\n",
       "      <th>10925</th>\n",
       "      <td>255667</td>\n",
       "      <td>2.387981</td>\n",
       "      <td>0.176874</td>\n",
       "      <td>1.697229</td>\n",
       "      <td>209.785774</td>\n",
       "      <td>160.810624</td>\n",
       "      <td>1.965610</td>\n",
       "      <td>2.810352</td>\n",
       "      <td>3.690239</td>\n",
       "      <td>7046.0</td>\n",
       "      <td>253.0</td>\n",
       "      <td>17.20</td>\n",
       "      <td>0.059</td>\n",
       "      <td>7.6340</td>\n",
       "      <td>0.964610</td>\n",
       "      <td>0.267090</td>\n",
       "      <td>1347.859860</td>\n",
       "      <td>131.744565</td>\n",
       "    </tr>\n",
       "    <tr>\n",
       "      <th>10928</th>\n",
       "      <td>257167</td>\n",
       "      <td>2.635484</td>\n",
       "      <td>0.219516</td>\n",
       "      <td>3.892682</td>\n",
       "      <td>30.887020</td>\n",
       "      <td>7.573783</td>\n",
       "      <td>2.056952</td>\n",
       "      <td>3.214016</td>\n",
       "      <td>4.278571</td>\n",
       "      <td>7584.0</td>\n",
       "      <td>254.0</td>\n",
       "      <td>16.60</td>\n",
       "      <td>0.158</td>\n",
       "      <td>5.5780</td>\n",
       "      <td>1.064040</td>\n",
       "      <td>0.230363</td>\n",
       "      <td>1562.747923</td>\n",
       "      <td>357.765815</td>\n",
       "    </tr>\n",
       "    <tr>\n",
       "      <th>10929</th>\n",
       "      <td>259804</td>\n",
       "      <td>2.338090</td>\n",
       "      <td>0.235408</td>\n",
       "      <td>22.831729</td>\n",
       "      <td>8.962988</td>\n",
       "      <td>105.876957</td>\n",
       "      <td>1.787686</td>\n",
       "      <td>2.888495</td>\n",
       "      <td>3.575198</td>\n",
       "      <td>6677.0</td>\n",
       "      <td>327.0</td>\n",
       "      <td>16.30</td>\n",
       "      <td>0.052</td>\n",
       "      <td>5.7910</td>\n",
       "      <td>0.922978</td>\n",
       "      <td>0.275684</td>\n",
       "      <td>1305.841231</td>\n",
       "      <td>111.214419</td>\n",
       "    </tr>\n",
       "    <tr>\n",
       "      <th>10931</th>\n",
       "      <td>263792</td>\n",
       "      <td>3.935916</td>\n",
       "      <td>0.200744</td>\n",
       "      <td>2.585539</td>\n",
       "      <td>322.324184</td>\n",
       "      <td>151.233070</td>\n",
       "      <td>3.145805</td>\n",
       "      <td>4.726027</td>\n",
       "      <td>7.808668</td>\n",
       "      <td>6742.0</td>\n",
       "      <td>297.0</td>\n",
       "      <td>15.00</td>\n",
       "      <td>0.053</td>\n",
       "      <td>10.4700</td>\n",
       "      <td>2.162910</td>\n",
       "      <td>0.126222</td>\n",
       "      <td>2852.116106</td>\n",
       "      <td>26.666600</td>\n",
       "    </tr>\n",
       "  </tbody>\n",
       "</table>\n",
       "<p>5534 rows × 18 columns</p>\n",
       "</div>"
      ],
      "text/plain": [
       "        index         a         e          i          om           w  \\\n",
       "75         76  2.668111  0.132298   2.422958    1.149350   61.830284   \n",
       "134       135  2.286339  0.085215   9.579216  186.454929  132.884873   \n",
       "141       142  2.760357  0.074406  11.444569  332.983835  252.396104   \n",
       "147       148  2.175205  0.064776   0.939377  159.609167  250.943865   \n",
       "153       154  2.755993  0.277138  11.387527   40.994893   45.859915   \n",
       "...       ...       ...       ...        ...         ...         ...   \n",
       "10922  255092  3.007410  0.118016   9.269796  216.051029  146.148770   \n",
       "10925  255667  2.387981  0.176874   1.697229  209.785774  160.810624   \n",
       "10928  257167  2.635484  0.219516   3.892682   30.887020    7.573783   \n",
       "10929  259804  2.338090  0.235408  22.831729    8.962988  105.876957   \n",
       "10931  263792  3.935916  0.200744   2.585539  322.324184  151.233070   \n",
       "\n",
       "              q        ad     per_y  data_arc  n_obs_used      H  albedo  \\\n",
       "75     2.315125  3.021097  4.358269   51236.0      2817.0   8.52   0.177   \n",
       "134    2.091510  2.481169  3.457158   51977.0      2580.0   9.69   0.201   \n",
       "141    2.554970  2.965745  4.586233   50966.0      2594.0   9.12   0.044   \n",
       "147    2.034303  2.316107  3.208178   46784.0      2903.0  10.79   0.152   \n",
       "153    1.992201  3.519784  4.575360   52511.0      2202.0  11.39   0.027   \n",
       "...         ...       ...       ...       ...         ...    ...     ...   \n",
       "10922  2.652489  3.362332  5.215515    6817.0       346.0  15.70   0.146   \n",
       "10925  1.965610  2.810352  3.690239    7046.0       253.0  17.20   0.059   \n",
       "10928  2.056952  3.214016  4.278571    7584.0       254.0  16.60   0.158   \n",
       "10929  1.787686  2.888495  3.575198    6677.0       327.0  16.30   0.052   \n",
       "10931  3.145805  4.726027  7.808668    6742.0       297.0  15.00   0.053   \n",
       "\n",
       "       rot_per      moid         n          per          ma  \n",
       "75      9.0120  1.329080  0.226151  1591.857740  283.372844  \n",
       "134    11.4969  1.091580  0.285097  1262.727053  216.903941  \n",
       "141    22.0050  1.575910  0.214910  1675.121685   81.082066  \n",
       "147    26.0230  1.044130  0.307223  1171.787013  227.627330  \n",
       "153     7.9597  1.025790  0.215420  1671.150404   89.093191  \n",
       "...        ...       ...       ...          ...         ...  \n",
       "10922   3.1580  1.655920  0.188980  1904.966934  243.379447  \n",
       "10925   7.6340  0.964610  0.267090  1347.859860  131.744565  \n",
       "10928   5.5780  1.064040  0.230363  1562.747923  357.765815  \n",
       "10929   5.7910  0.922978  0.275684  1305.841231  111.214419  \n",
       "10931  10.4700  2.162910  0.126222  2852.116106   26.666600  \n",
       "\n",
       "[5534 rows x 18 columns]"
      ]
     },
     "execution_count": 45,
     "metadata": {},
     "output_type": "execute_result"
    }
   ],
   "source": [
    "X"
   ]
  },
  {
   "cell_type": "markdown",
   "metadata": {},
   "source": [
    "### Geramos os folds para validação cruzada"
   ]
  },
  {
   "cell_type": "code",
   "execution_count": 46,
   "metadata": {},
   "outputs": [],
   "source": [
    "kf = KFold(n_splits=10, shuffle=True, random_state=111)"
   ]
  },
  {
   "cell_type": "code",
   "execution_count": 47,
   "metadata": {},
   "outputs": [],
   "source": [
    "def avalia_classificador(model, kf, X, y, function_RMSE):\n",
    "    metric_valid = []\n",
    "    metric_train = []\n",
    "    y_preds = np.zeros(X.shape[0])\n",
    "    # a cada iteração em kf, temos k-1 conjuntos para treino e 1 para validação\n",
    "    # train e valid recebem os indices de treino e validação em cada rodada.\n",
    "    for train, valid in kf.split(X,y):\n",
    "        x_train = X.iloc[train] # escolhe apenas os indices de treino\n",
    "        y_train = y.iloc[train]\n",
    "        x_valid = X.iloc[valid] # escolhe apenas os indices de validação\n",
    "        y_valid = y.iloc[valid]\n",
    "        model.fit(x_train, y_train) # treina o classificador com dados de treino\n",
    "        y_pred_train = model.predict(x_train) # faz predições nos dados de treino\n",
    "        y_pred_valid = model.predict(x_valid) # faz predições nos dados de validação\n",
    "        y_preds[valid] = y_pred_valid # guarda as previsões do fold corrente\n",
    "        \n",
    "        # salvando métricas obtidas no dado de treino (k-1 folds) e validação (1 fold)\n",
    "        metric_valid.append(function_RMSE(y_valid, y_pred_valid)) \n",
    "        metric_train.append(function_RMSE(y_train, y_pred_train)) \n",
    "    \n",
    "    # retorna as previsões e a média das métricas de treino e validação\n",
    "    # obtidas nas iterações do Kfold\n",
    "    return y_preds, np.array(metric_valid).mean(), np.array(metric_train).mean()"
   ]
  },
  {
   "cell_type": "code",
   "execution_count": 48,
   "metadata": {},
   "outputs": [],
   "source": [
    "from sklearn.metrics import mean_squared_error\n",
    "def function_RMSE(y_real, y_pred): \n",
    "    return mean_squared_error(y_real, y_pred)**0.5"
   ]
  },
  {
   "cell_type": "markdown",
   "metadata": {},
   "source": [
    "Modelos: \n",
    "\n",
    "* Modelos Lineares\n",
    "    * Regressão Linear\n",
    "* Modelos não-lineares    \n",
    "    * Árvores de decisão\n",
    "    * Random Forest\n",
    "    * Gradient Boosting\n",
    "    * SVM\n",
    "    * Redes Neurais"
   ]
  },
  {
   "cell_type": "markdown",
   "metadata": {},
   "source": [
    "#### Baseline"
   ]
  },
  {
   "cell_type": "code",
   "execution_count": 49,
   "metadata": {},
   "outputs": [],
   "source": [
    "media_valor_m2 = np.mean(y)"
   ]
  },
  {
   "cell_type": "code",
   "execution_count": 50,
   "metadata": {},
   "outputs": [
    {
     "name": "stdout",
     "output_type": "stream",
     "text": [
      "15.425385526455457\n"
     ]
    }
   ],
   "source": [
    "#Gera um vetor artificial com o valor da média repetido pelo número de linhas do nosso conjunto.\n",
    "y_media = np.array([media_valor_m2]*y.shape[0])\n",
    "\n",
    "#Calcula o desempenho como se a predição do modelo fosse o y médio\n",
    "print(function_RMSE(y, y_media))"
   ]
  },
  {
   "cell_type": "markdown",
   "metadata": {},
   "source": [
    "#### Regressão Linear"
   ]
  },
  {
   "cell_type": "markdown",
   "metadata": {},
   "source": [
    "Temos o seguinte modelo para estimar o diâmetro do asteroide:\n",
    "\n",
    "**diameter = β0 + β1 × 'data_arc' + β2 ×'n_obs_used' + β3 × 'a'....**"
   ]
  },
  {
   "cell_type": "code",
   "execution_count": 51,
   "metadata": {},
   "outputs": [],
   "source": [
    "from sklearn.linear_model import LinearRegression\n",
    "\n",
    "modelLinearRegression = LinearRegression(fit_intercept=True, normalize=True) "
   ]
  },
  {
   "cell_type": "code",
   "execution_count": 52,
   "metadata": {},
   "outputs": [
    {
     "name": "stdout",
     "output_type": "stream",
     "text": [
      "RMSE (validação):  7.52145840648642\n",
      "RMSE (treino):  7.509316768801699\n"
     ]
    }
   ],
   "source": [
    "preds, rmse_val, rmse_train = avalia_classificador(modelLinearRegression, kf, X, y, function_RMSE) # treina, valida e calcula desempenho\n",
    "print('RMSE (validação): ', rmse_val)\n",
    "print('RMSE (treino): ', rmse_train)"
   ]
  },
  {
   "cell_type": "code",
   "execution_count": 53,
   "metadata": {},
   "outputs": [
    {
     "name": "stdout",
     "output_type": "stream",
     "text": [
      "Número de atributos após transformação: 190\n",
      "RMSE (validação):  4.362486808130292\n",
      "RMSE (treino):  3.388565599077425\n"
     ]
    }
   ],
   "source": [
    "from sklearn.preprocessing import PolynomialFeatures\n",
    "from sklearn.preprocessing import StandardScaler, MinMaxScaler\n",
    "\n",
    "# Cria uma nova matriz de atributos com as features polinomiais de grau 2\n",
    "X_new = PolynomialFeatures(2).fit_transform(X) \n",
    "\n",
    "# Reescalona os dados entre 0 e 1 (valor padrão do MinMaxScaler)\n",
    "X_new = MinMaxScaler().fit_transform(X_new)\n",
    "X_new = pd.DataFrame(X_new)\n",
    "print('Número de atributos após transformação:', X_new.shape[1])\n",
    "preds, rmse_val, rmse_train = avalia_classificador(modelLinearRegression, kf, X_new, y, function_RMSE) \n",
    "print('RMSE (validação): ', rmse_val)\n",
    "print('RMSE (treino): ', rmse_train)"
   ]
  },
  {
   "cell_type": "code",
   "execution_count": 54,
   "metadata": {},
   "outputs": [
    {
     "data": {
      "image/png": "[encoded data removed]",
      "text/plain": [
       "<Figure size 432x288 with 1 Axes>"
      ]
     },
     "metadata": {
      "needs_background": "light"
     },
     "output_type": "display_data"
    }
   ],
   "source": [
    "plt.scatter(preds, y);\n",
    "plt.plot(preds,preds, c ='r')\n",
    "ax = plt.gca()\n",
    "ax.set_xlim([-50, 200])\n",
    "ax.set_ylim([-20, 120])\n",
    "\n",
    "plt.show()"
   ]
  },
  {
   "cell_type": "markdown",
   "metadata": {},
   "source": [
    "#### Árvore de decisão"
   ]
  },
  {
   "cell_type": "code",
   "execution_count": 55,
   "metadata": {},
   "outputs": [],
   "source": [
    "from sklearn import tree\n",
    "modelTreeDecision = tree.DecisionTreeRegressor(max_features=5, max_depth=3, random_state=10)"
   ]
  },
  {
   "cell_type": "code",
   "execution_count": 56,
   "metadata": {},
   "outputs": [
    {
     "name": "stdout",
     "output_type": "stream",
     "text": [
      "RMSE (validação):  9.672168807667479\n",
      "RMSE (treino):  9.315812560869997\n"
     ]
    }
   ],
   "source": [
    "preds, rmse_val, rmse_train = avalia_classificador(modelTreeDecision, kf, X, y, function_RMSE) \n",
    "print('RMSE (validação): ', rmse_val)\n",
    "print('RMSE (treino): ', rmse_train)"
   ]
  },
  {
   "cell_type": "code",
   "execution_count": 57,
   "metadata": {},
   "outputs": [
    {
     "data": {
      "image/svg+xml": [
       "<?xml version=\"1.0\" encoding=\"UTF-8\" standalone=\"no\"?>\n",
       "<!DOCTYPE svg PUBLIC \"-//W3C//DTD SVG 1.1//EN\"\n",
       " \"http://www.w3.org/Graphics/SVG/1.1/DTD/svg11.dtd\">\n",
       "<!-- Generated by graphviz version 3.0.0 (20220226.1711)\n",
       " -->\n",
       "<!-- Title: Tree Pages: 1 -->\n",
       "<svg width=\"1050pt\" height=\"373pt\"\n",
       " viewBox=\"0.00 0.00 1050.00 373.00\" xmlns=\"http://www.w3.org/2000/svg\" xmlns:xlink=\"http://www.w3.org/1999/xlink\">\n",
       "<g id=\"graph0\" class=\"graph\" transform=\"scale(1 1) rotate(0) translate(4 369)\">\n",
       "<title>Tree</title>\n",
       "<polygon fill=\"white\" stroke=\"transparent\" points=\"-4,4 -4,-369 1046,-369 1046,4 -4,4\"/>\n",
       "<!-- 0 -->\n",
       "<g id=\"node1\" class=\"node\">\n",
       "<title>0</title>\n",
       "<path fill=\"#fdf4ed\" stroke=\"black\" d=\"M576.5,-365C576.5,-365 436.5,-365 436.5,-365 430.5,-365 424.5,-359 424.5,-353 424.5,-353 424.5,-309 424.5,-309 424.5,-303 430.5,-297 436.5,-297 436.5,-297 576.5,-297 576.5,-297 582.5,-297 588.5,-303 588.5,-309 588.5,-309 588.5,-353 588.5,-353 588.5,-359 582.5,-365 576.5,-365\"/>\n",
       "<text text-anchor=\"start\" x=\"432.5\" y=\"-349.8\" font-family=\"Helvetica,sans-Serif\" font-size=\"14.00\">n_obs_used ≤ 32953.0</text>\n",
       "<text text-anchor=\"start\" x=\"458\" y=\"-334.8\" font-family=\"Helvetica,sans-Serif\" font-size=\"14.00\">mse = 240.834</text>\n",
       "<text text-anchor=\"start\" x=\"455\" y=\"-319.8\" font-family=\"Helvetica,sans-Serif\" font-size=\"14.00\">samples = 4981</text>\n",
       "<text text-anchor=\"start\" x=\"459.5\" y=\"-304.8\" font-family=\"Helvetica,sans-Serif\" font-size=\"14.00\">value = 12.108</text>\n",
       "</g>\n",
       "<!-- 1 -->\n",
       "<g id=\"node2\" class=\"node\">\n",
       "<title>1</title>\n",
       "<path fill=\"#fefaf8\" stroke=\"black\" d=\"M476,-261C476,-261 381,-261 381,-261 375,-261 369,-255 369,-249 369,-249 369,-205 369,-205 369,-199 375,-193 381,-193 381,-193 476,-193 476,-193 482,-193 488,-199 488,-205 488,-205 488,-249 488,-249 488,-255 482,-261 476,-261\"/>\n",
       "<text text-anchor=\"start\" x=\"386.5\" y=\"-245.8\" font-family=\"Helvetica,sans-Serif\" font-size=\"14.00\">moid ≤ 2.105</text>\n",
       "<text text-anchor=\"start\" x=\"384\" y=\"-230.8\" font-family=\"Helvetica,sans-Serif\" font-size=\"14.00\">mse = 78.806</text>\n",
       "<text text-anchor=\"start\" x=\"377\" y=\"-215.8\" font-family=\"Helvetica,sans-Serif\" font-size=\"14.00\">samples = 4451</text>\n",
       "<text text-anchor=\"start\" x=\"385.5\" y=\"-200.8\" font-family=\"Helvetica,sans-Serif\" font-size=\"14.00\">value = 8.702</text>\n",
       "</g>\n",
       "<!-- 0&#45;&gt;1 -->\n",
       "<g id=\"edge1\" class=\"edge\">\n",
       "<title>0&#45;&gt;1</title>\n",
       "<path fill=\"none\" stroke=\"black\" d=\"M481.18,-296.88C474.5,-288.15 467.21,-278.62 460.25,-269.51\"/>\n",
       "<polygon fill=\"black\" stroke=\"black\" points=\"462.82,-267.12 453.96,-261.3 457.26,-271.37 462.82,-267.12\"/>\n",
       "<text text-anchor=\"middle\" x=\"450.66\" y=\"-282.38\" font-family=\"Helvetica,sans-Serif\" font-size=\"14.00\">True</text>\n",
       "</g>\n",
       "<!-- 8 -->\n",
       "<g id=\"node9\" class=\"node\">\n",
       "<title>8</title>\n",
       "<path fill=\"#f1bc95\" stroke=\"black\" d=\"M669.5,-261C669.5,-261 579.5,-261 579.5,-261 573.5,-261 567.5,-255 567.5,-249 567.5,-249 567.5,-205 567.5,-205 567.5,-199 573.5,-193 579.5,-193 579.5,-193 669.5,-193 669.5,-193 675.5,-193 681.5,-199 681.5,-205 681.5,-205 681.5,-249 681.5,-249 681.5,-255 675.5,-261 669.5,-261\"/>\n",
       "<text text-anchor=\"start\" x=\"575.5\" y=\"-245.8\" font-family=\"Helvetica,sans-Serif\" font-size=\"14.00\">per ≤ 1503.107</text>\n",
       "<text text-anchor=\"start\" x=\"576\" y=\"-230.8\" font-family=\"Helvetica,sans-Serif\" font-size=\"14.00\">mse = 685.992</text>\n",
       "<text text-anchor=\"start\" x=\"577\" y=\"-215.8\" font-family=\"Helvetica,sans-Serif\" font-size=\"14.00\">samples = 530</text>\n",
       "<text text-anchor=\"start\" x=\"577.5\" y=\"-200.8\" font-family=\"Helvetica,sans-Serif\" font-size=\"14.00\">value = 40.712</text>\n",
       "</g>\n",
       "<!-- 0&#45;&gt;8 -->\n",
       "<g id=\"edge8\" class=\"edge\">\n",
       "<title>0&#45;&gt;8</title>\n",
       "<path fill=\"none\" stroke=\"black\" d=\"M544.81,-296.88C555.53,-287.62 567.29,-277.45 578.4,-267.85\"/>\n",
       "<polygon fill=\"black\" stroke=\"black\" points=\"580.7,-270.49 585.98,-261.3 576.12,-265.19 580.7,-270.49\"/>\n",
       "<text text-anchor=\"middle\" x=\"584.16\" y=\"-282.53\" font-family=\"Helvetica,sans-Serif\" font-size=\"14.00\">False</text>\n",
       "</g>\n",
       "<!-- 2 -->\n",
       "<g id=\"node3\" class=\"node\">\n",
       "<title>2</title>\n",
       "<path fill=\"#fefcfa\" stroke=\"black\" d=\"M244,-157C244,-157 149,-157 149,-157 143,-157 137,-151 137,-145 137,-145 137,-101 137,-101 137,-95 143,-89 149,-89 149,-89 244,-89 244,-89 250,-89 256,-95 256,-101 256,-101 256,-145 256,-145 256,-151 250,-157 244,-157\"/>\n",
       "<text text-anchor=\"start\" x=\"147.5\" y=\"-141.8\" font-family=\"Helvetica,sans-Serif\" font-size=\"14.00\">per ≤ 1896.432</text>\n",
       "<text text-anchor=\"start\" x=\"152\" y=\"-126.8\" font-family=\"Helvetica,sans-Serif\" font-size=\"14.00\">mse = 44.819</text>\n",
       "<text text-anchor=\"start\" x=\"145\" y=\"-111.8\" font-family=\"Helvetica,sans-Serif\" font-size=\"14.00\">samples = 4303</text>\n",
       "<text text-anchor=\"start\" x=\"153.5\" y=\"-96.8\" font-family=\"Helvetica,sans-Serif\" font-size=\"14.00\">value = 7.817</text>\n",
       "</g>\n",
       "<!-- 1&#45;&gt;2 -->\n",
       "<g id=\"edge2\" class=\"edge\">\n",
       "<title>1&#45;&gt;2</title>\n",
       "<path fill=\"none\" stroke=\"black\" d=\"M368.75,-199.73C337.23,-185.87 298.39,-168.8 265.57,-154.37\"/>\n",
       "<polygon fill=\"black\" stroke=\"black\" points=\"266.61,-151 256.04,-150.18 263.79,-157.41 266.61,-151\"/>\n",
       "</g>\n",
       "<!-- 5 -->\n",
       "<g id=\"node6\" class=\"node\">\n",
       "<title>5</title>\n",
       "<path fill=\"#f4c8a9\" stroke=\"black\" d=\"M498.5,-157C498.5,-157 358.5,-157 358.5,-157 352.5,-157 346.5,-151 346.5,-145 346.5,-145 346.5,-101 346.5,-101 346.5,-95 352.5,-89 358.5,-89 358.5,-89 498.5,-89 498.5,-89 504.5,-89 510.5,-95 510.5,-101 510.5,-101 510.5,-145 510.5,-145 510.5,-151 504.5,-157 498.5,-157\"/>\n",
       "<text text-anchor=\"start\" x=\"354.5\" y=\"-141.8\" font-family=\"Helvetica,sans-Serif\" font-size=\"14.00\">n_obs_used ≤ 27285.5</text>\n",
       "<text text-anchor=\"start\" x=\"380\" y=\"-126.8\" font-family=\"Helvetica,sans-Serif\" font-size=\"14.00\">mse = 381.533</text>\n",
       "<text text-anchor=\"start\" x=\"381\" y=\"-111.8\" font-family=\"Helvetica,sans-Serif\" font-size=\"14.00\">samples = 148</text>\n",
       "<text text-anchor=\"start\" x=\"381.5\" y=\"-96.8\" font-family=\"Helvetica,sans-Serif\" font-size=\"14.00\">value = 34.444</text>\n",
       "</g>\n",
       "<!-- 1&#45;&gt;5 -->\n",
       "<g id=\"edge5\" class=\"edge\">\n",
       "<title>1&#45;&gt;5</title>\n",
       "<path fill=\"none\" stroke=\"black\" d=\"M428.5,-192.88C428.5,-184.78 428.5,-175.98 428.5,-167.47\"/>\n",
       "<polygon fill=\"black\" stroke=\"black\" points=\"432,-167.3 428.5,-157.3 425,-167.3 432,-167.3\"/>\n",
       "</g>\n",
       "<!-- 3 -->\n",
       "<g id=\"node4\" class=\"node\">\n",
       "<title>3</title>\n",
       "<path fill=\"#ffffff\" stroke=\"black\" d=\"M107,-53C107,-53 12,-53 12,-53 6,-53 0,-47 0,-41 0,-41 0,-12 0,-12 0,-6 6,0 12,0 12,0 107,0 107,0 113,0 119,-6 119,-12 119,-12 119,-41 119,-41 119,-47 113,-53 107,-53\"/>\n",
       "<text text-anchor=\"start\" x=\"15\" y=\"-37.8\" font-family=\"Helvetica,sans-Serif\" font-size=\"14.00\">mse = 24.279</text>\n",
       "<text text-anchor=\"start\" x=\"8\" y=\"-22.8\" font-family=\"Helvetica,sans-Serif\" font-size=\"14.00\">samples = 3236</text>\n",
       "<text text-anchor=\"start\" x=\"16.5\" y=\"-7.8\" font-family=\"Helvetica,sans-Serif\" font-size=\"14.00\">value = 6.261</text>\n",
       "</g>\n",
       "<!-- 2&#45;&gt;3 -->\n",
       "<g id=\"edge3\" class=\"edge\">\n",
       "<title>2&#45;&gt;3</title>\n",
       "<path fill=\"none\" stroke=\"black\" d=\"M148.58,-88.95C134.53,-79.25 119.19,-68.68 105.27,-59.07\"/>\n",
       "<polygon fill=\"black\" stroke=\"black\" points=\"107.03,-56.03 96.81,-53.24 103.06,-61.8 107.03,-56.03\"/>\n",
       "</g>\n",
       "<!-- 4 -->\n",
       "<g id=\"node5\" class=\"node\">\n",
       "<title>4</title>\n",
       "<path fill=\"#fcf3ec\" stroke=\"black\" d=\"M244,-53C244,-53 149,-53 149,-53 143,-53 137,-47 137,-41 137,-41 137,-12 137,-12 137,-6 143,0 149,0 149,0 244,0 244,0 250,0 256,-6 256,-12 256,-12 256,-41 256,-41 256,-47 250,-53 244,-53\"/>\n",
       "<text text-anchor=\"start\" x=\"152\" y=\"-37.8\" font-family=\"Helvetica,sans-Serif\" font-size=\"14.00\">mse = 77.509</text>\n",
       "<text text-anchor=\"start\" x=\"145\" y=\"-22.8\" font-family=\"Helvetica,sans-Serif\" font-size=\"14.00\">samples = 1067</text>\n",
       "<text text-anchor=\"start\" x=\"149.5\" y=\"-7.8\" font-family=\"Helvetica,sans-Serif\" font-size=\"14.00\">value = 12.535</text>\n",
       "</g>\n",
       "<!-- 2&#45;&gt;4 -->\n",
       "<g id=\"edge4\" class=\"edge\">\n",
       "<title>2&#45;&gt;4</title>\n",
       "<path fill=\"none\" stroke=\"black\" d=\"M196.5,-88.95C196.5,-80.72 196.5,-71.85 196.5,-63.48\"/>\n",
       "<polygon fill=\"black\" stroke=\"black\" points=\"200,-63.24 196.5,-53.24 193,-63.24 200,-63.24\"/>\n",
       "</g>\n",
       "<!-- 6 -->\n",
       "<g id=\"node7\" class=\"node\">\n",
       "<title>6</title>\n",
       "<path fill=\"#f5cfb3\" stroke=\"black\" d=\"M375,-53C375,-53 286,-53 286,-53 280,-53 274,-47 274,-41 274,-41 274,-12 274,-12 274,-6 280,0 286,0 286,0 375,0 375,0 381,0 387,-6 387,-12 387,-12 387,-41 387,-41 387,-47 381,-53 375,-53\"/>\n",
       "<text text-anchor=\"start\" x=\"282\" y=\"-37.8\" font-family=\"Helvetica,sans-Serif\" font-size=\"14.00\">mse = 244.953</text>\n",
       "<text text-anchor=\"start\" x=\"283\" y=\"-22.8\" font-family=\"Helvetica,sans-Serif\" font-size=\"14.00\">samples = 135</text>\n",
       "<text text-anchor=\"start\" x=\"283.5\" y=\"-7.8\" font-family=\"Helvetica,sans-Serif\" font-size=\"14.00\">value = 30.942</text>\n",
       "</g>\n",
       "<!-- 5&#45;&gt;6 -->\n",
       "<g id=\"edge6\" class=\"edge\">\n",
       "<title>5&#45;&gt;6</title>\n",
       "<path fill=\"none\" stroke=\"black\" d=\"M394.22,-88.95C384.64,-79.71 374.23,-69.67 364.66,-60.44\"/>\n",
       "<polygon fill=\"black\" stroke=\"black\" points=\"366.82,-57.66 357.19,-53.24 361.96,-62.7 366.82,-57.66\"/>\n",
       "</g>\n",
       "<!-- 7 -->\n",
       "<g id=\"node8\" class=\"node\">\n",
       "<title>7</title>\n",
       "<path fill=\"#e58139\" stroke=\"black\" d=\"M506,-53C506,-53 417,-53 417,-53 411,-53 405,-47 405,-41 405,-41 405,-12 405,-12 405,-6 411,0 417,0 417,0 506,0 506,0 512,0 518,-6 518,-12 518,-12 518,-41 518,-41 518,-47 512,-53 506,-53\"/>\n",
       "<text text-anchor=\"start\" x=\"413\" y=\"-37.8\" font-family=\"Helvetica,sans-Serif\" font-size=\"14.00\">mse = 350.131</text>\n",
       "<text text-anchor=\"start\" x=\"418\" y=\"-22.8\" font-family=\"Helvetica,sans-Serif\" font-size=\"14.00\">samples = 13</text>\n",
       "<text text-anchor=\"start\" x=\"414.5\" y=\"-7.8\" font-family=\"Helvetica,sans-Serif\" font-size=\"14.00\">value = 70.808</text>\n",
       "</g>\n",
       "<!-- 5&#45;&gt;7 -->\n",
       "<g id=\"edge7\" class=\"edge\">\n",
       "<title>5&#45;&gt;7</title>\n",
       "<path fill=\"none\" stroke=\"black\" d=\"M440.04,-88.95C442.98,-80.53 446.15,-71.45 449.13,-62.92\"/>\n",
       "<polygon fill=\"black\" stroke=\"black\" points=\"452.52,-63.83 452.51,-53.24 445.91,-61.52 452.52,-63.83\"/>\n",
       "</g>\n",
       "<!-- 9 -->\n",
       "<g id=\"node10\" class=\"node\">\n",
       "<title>9</title>\n",
       "<path fill=\"#fae5d6\" stroke=\"black\" d=\"M669,-157C669,-157 580,-157 580,-157 574,-157 568,-151 568,-145 568,-145 568,-101 568,-101 568,-95 574,-89 580,-89 580,-89 669,-89 669,-89 675,-89 681,-95 681,-101 681,-101 681,-145 681,-145 681,-151 675,-157 669,-157\"/>\n",
       "<text text-anchor=\"start\" x=\"594.5\" y=\"-141.8\" font-family=\"Helvetica,sans-Serif\" font-size=\"14.00\">a ≤ 585.0</text>\n",
       "<text text-anchor=\"start\" x=\"576\" y=\"-126.8\" font-family=\"Helvetica,sans-Serif\" font-size=\"14.00\">mse = 269.338</text>\n",
       "<text text-anchor=\"start\" x=\"577\" y=\"-111.8\" font-family=\"Helvetica,sans-Serif\" font-size=\"14.00\">samples = 149</text>\n",
       "<text text-anchor=\"start\" x=\"577.5\" y=\"-96.8\" font-family=\"Helvetica,sans-Serif\" font-size=\"14.00\">value = 19.538</text>\n",
       "</g>\n",
       "<!-- 8&#45;&gt;9 -->\n",
       "<g id=\"edge9\" class=\"edge\">\n",
       "<title>8&#45;&gt;9</title>\n",
       "<path fill=\"none\" stroke=\"black\" d=\"M624.5,-192.88C624.5,-184.78 624.5,-175.98 624.5,-167.47\"/>\n",
       "<polygon fill=\"black\" stroke=\"black\" points=\"628,-167.3 624.5,-157.3 621,-167.3 628,-167.3\"/>\n",
       "</g>\n",
       "<!-- 12 -->\n",
       "<g id=\"node13\" class=\"node\">\n",
       "<title>12</title>\n",
       "<path fill=\"#eeac7c\" stroke=\"black\" d=\"M899.5,-157C899.5,-157 809.5,-157 809.5,-157 803.5,-157 797.5,-151 797.5,-145 797.5,-145 797.5,-101 797.5,-101 797.5,-95 803.5,-89 809.5,-89 809.5,-89 899.5,-89 899.5,-89 905.5,-89 911.5,-95 911.5,-101 911.5,-101 911.5,-145 911.5,-145 911.5,-151 905.5,-157 899.5,-157\"/>\n",
       "<text text-anchor=\"start\" x=\"805.5\" y=\"-141.8\" font-family=\"Helvetica,sans-Serif\" font-size=\"14.00\">per ≤ 2073.665</text>\n",
       "<text text-anchor=\"start\" x=\"806\" y=\"-126.8\" font-family=\"Helvetica,sans-Serif\" font-size=\"14.00\">mse = 605.034</text>\n",
       "<text text-anchor=\"start\" x=\"807\" y=\"-111.8\" font-family=\"Helvetica,sans-Serif\" font-size=\"14.00\">samples = 381</text>\n",
       "<text text-anchor=\"start\" x=\"807.5\" y=\"-96.8\" font-family=\"Helvetica,sans-Serif\" font-size=\"14.00\">value = 48.992</text>\n",
       "</g>\n",
       "<!-- 8&#45;&gt;12 -->\n",
       "<g id=\"edge12\" class=\"edge\">\n",
       "<title>8&#45;&gt;12</title>\n",
       "<path fill=\"none\" stroke=\"black\" d=\"M681.65,-200.66C713.88,-186.36 754.3,-168.44 787.95,-153.51\"/>\n",
       "<polygon fill=\"black\" stroke=\"black\" points=\"789.52,-156.64 797.25,-149.39 786.69,-150.25 789.52,-156.64\"/>\n",
       "</g>\n",
       "<!-- 10 -->\n",
       "<g id=\"node11\" class=\"node\">\n",
       "<title>10</title>\n",
       "<path fill=\"#f4caac\" stroke=\"black\" d=\"M637,-53C637,-53 548,-53 548,-53 542,-53 536,-47 536,-41 536,-41 536,-12 536,-12 536,-6 542,0 548,0 548,0 637,0 637,0 643,0 649,-6 649,-12 649,-12 649,-41 649,-41 649,-47 643,-53 637,-53\"/>\n",
       "<text text-anchor=\"start\" x=\"544\" y=\"-37.8\" font-family=\"Helvetica,sans-Serif\" font-size=\"14.00\">mse = 487.478</text>\n",
       "<text text-anchor=\"start\" x=\"549\" y=\"-22.8\" font-family=\"Helvetica,sans-Serif\" font-size=\"14.00\">samples = 38</text>\n",
       "<text text-anchor=\"start\" x=\"545.5\" y=\"-7.8\" font-family=\"Helvetica,sans-Serif\" font-size=\"14.00\">value = 33.312</text>\n",
       "</g>\n",
       "<!-- 9&#45;&gt;10 -->\n",
       "<g id=\"edge10\" class=\"edge\">\n",
       "<title>9&#45;&gt;10</title>\n",
       "<path fill=\"none\" stroke=\"black\" d=\"M613.31,-88.95C610.46,-80.53 607.38,-71.45 604.5,-62.92\"/>\n",
       "<polygon fill=\"black\" stroke=\"black\" points=\"607.74,-61.59 601.22,-53.24 601.11,-63.83 607.74,-61.59\"/>\n",
       "</g>\n",
       "<!-- 11 -->\n",
       "<g id=\"node12\" class=\"node\">\n",
       "<title>11</title>\n",
       "<path fill=\"#fceee5\" stroke=\"black\" d=\"M768,-53C768,-53 679,-53 679,-53 673,-53 667,-47 667,-41 667,-41 667,-12 667,-12 667,-6 673,0 679,0 679,0 768,0 768,0 774,0 780,-6 780,-12 780,-12 780,-41 780,-41 780,-47 774,-53 768,-53\"/>\n",
       "<text text-anchor=\"start\" x=\"675\" y=\"-37.8\" font-family=\"Helvetica,sans-Serif\" font-size=\"14.00\">mse = 107.464</text>\n",
       "<text text-anchor=\"start\" x=\"676\" y=\"-22.8\" font-family=\"Helvetica,sans-Serif\" font-size=\"14.00\">samples = 111</text>\n",
       "<text text-anchor=\"start\" x=\"676.5\" y=\"-7.8\" font-family=\"Helvetica,sans-Serif\" font-size=\"14.00\">value = 14.822</text>\n",
       "</g>\n",
       "<!-- 9&#45;&gt;11 -->\n",
       "<g id=\"edge11\" class=\"edge\">\n",
       "<title>9&#45;&gt;11</title>\n",
       "<path fill=\"none\" stroke=\"black\" d=\"M659.13,-88.95C668.9,-79.62 679.53,-69.47 689.28,-60.16\"/>\n",
       "<polygon fill=\"black\" stroke=\"black\" points=\"691.72,-62.67 696.54,-53.24 686.89,-57.61 691.72,-62.67\"/>\n",
       "</g>\n",
       "<!-- 13 -->\n",
       "<g id=\"node14\" class=\"node\">\n",
       "<title>13</title>\n",
       "<path fill=\"#efb287\" stroke=\"black\" d=\"M899,-53C899,-53 810,-53 810,-53 804,-53 798,-47 798,-41 798,-41 798,-12 798,-12 798,-6 804,0 810,0 810,0 899,0 899,0 905,0 911,-6 911,-12 911,-12 911,-41 911,-41 911,-47 905,-53 899,-53\"/>\n",
       "<text text-anchor=\"start\" x=\"806\" y=\"-37.8\" font-family=\"Helvetica,sans-Serif\" font-size=\"14.00\">mse = 550.444</text>\n",
       "<text text-anchor=\"start\" x=\"807\" y=\"-22.8\" font-family=\"Helvetica,sans-Serif\" font-size=\"14.00\">samples = 325</text>\n",
       "<text text-anchor=\"start\" x=\"807.5\" y=\"-7.8\" font-family=\"Helvetica,sans-Serif\" font-size=\"14.00\">value = 45.515</text>\n",
       "</g>\n",
       "<!-- 12&#45;&gt;13 -->\n",
       "<g id=\"edge13\" class=\"edge\">\n",
       "<title>12&#45;&gt;13</title>\n",
       "<path fill=\"none\" stroke=\"black\" d=\"M854.5,-88.95C854.5,-80.72 854.5,-71.85 854.5,-63.48\"/>\n",
       "<polygon fill=\"black\" stroke=\"black\" points=\"858,-63.24 854.5,-53.24 851,-63.24 858,-63.24\"/>\n",
       "</g>\n",
       "<!-- 14 -->\n",
       "<g id=\"node15\" class=\"node\">\n",
       "<title>14</title>\n",
       "<path fill=\"#e6843e\" stroke=\"black\" d=\"M1030,-53C1030,-53 941,-53 941,-53 935,-53 929,-47 929,-41 929,-41 929,-12 929,-12 929,-6 935,0 941,0 941,0 1030,0 1030,0 1036,0 1042,-6 1042,-12 1042,-12 1042,-41 1042,-41 1042,-47 1036,-53 1030,-53\"/>\n",
       "<text text-anchor=\"start\" x=\"937\" y=\"-37.8\" font-family=\"Helvetica,sans-Serif\" font-size=\"14.00\">mse = 444.579</text>\n",
       "<text text-anchor=\"start\" x=\"942\" y=\"-22.8\" font-family=\"Helvetica,sans-Serif\" font-size=\"14.00\">samples = 56</text>\n",
       "<text text-anchor=\"start\" x=\"938.5\" y=\"-7.8\" font-family=\"Helvetica,sans-Serif\" font-size=\"14.00\">value = 69.169</text>\n",
       "</g>\n",
       "<!-- 12&#45;&gt;14 -->\n",
       "<g id=\"edge14\" class=\"edge\">\n",
       "<title>12&#45;&gt;14</title>\n",
       "<path fill=\"none\" stroke=\"black\" d=\"M900.32,-88.95C913.63,-79.34 928.14,-68.87 941.36,-59.34\"/>\n",
       "<polygon fill=\"black\" stroke=\"black\" points=\"943.76,-61.93 949.82,-53.24 939.66,-56.25 943.76,-61.93\"/>\n",
       "</g>\n",
       "</g>\n",
       "</svg>\n"
      ],
      "text/plain": [
       "<graphviz.sources.Source at 0x1d245eb0>"
      ]
     },
     "execution_count": 57,
     "metadata": {},
     "output_type": "execute_result"
    }
   ],
   "source": [
    "import graphviz \n",
    "\n",
    "import os\n",
    "os.environ[\"PATH\"] += os.pathsep + 'C:/Program Files/Graphviz/bin/'\n",
    "\n",
    "columns = ['a', 'e', 'i', 'om', 'w', 'q', 'ad', 'per_y', 'data_arc', 'n_obs_used', 'H', 'diameter','albedo', 'rot_per','moid', 'n', 'per', 'ma']\n",
    "\n",
    "dot_data = tree.export_graphviz(modelTreeDecision, out_file=None, \n",
    "                                feature_names=columns,  \n",
    "                                filled=True, rounded=True,  \n",
    "                                special_characters=True)  \n",
    "graph = graphviz.Source(dot_data)  \n",
    "graph"
   ]
  },
  {
   "cell_type": "markdown",
   "metadata": {},
   "source": [
    "#### Random Forest "
   ]
  },
  {
   "cell_type": "code",
   "execution_count": 58,
   "metadata": {},
   "outputs": [],
   "source": [
    "from sklearn.ensemble import RandomForestRegressor\n",
    "\n",
    "modelRandomForest = RandomForestRegressor(n_estimators=100, random_state=26)"
   ]
  },
  {
   "cell_type": "code",
   "execution_count": 59,
   "metadata": {},
   "outputs": [
    {
     "name": "stdout",
     "output_type": "stream",
     "text": [
      "RMSE (validação):  2.030011742098371\n",
      "RMSE (treino):  0.7815634541632256\n"
     ]
    }
   ],
   "source": [
    "preds, rmse_val, rmse_train = avalia_classificador(modelRandomForest, kf, X, y, function_RMSE) \n",
    "print('RMSE (validação): ', rmse_val)\n",
    "print('RMSE (treino): ', rmse_train)"
   ]
  },
  {
   "cell_type": "markdown",
   "metadata": {},
   "source": [
    "#### Gradient Boosting"
   ]
  },
  {
   "cell_type": "code",
   "execution_count": 66,
   "metadata": {},
   "outputs": [],
   "source": [
    "from sklearn.ensemble import GradientBoostingRegressor\n",
    "modelGradientBoosting = GradientBoostingRegressor(learning_rate=0.015, max_depth=3, max_features = 18, min_samples_leaf=1,n_estimators=1500, random_state=2,subsample = 0.2)"
   ]
  },
  {
   "cell_type": "code",
   "execution_count": 67,
   "metadata": {},
   "outputs": [
    {
     "name": "stdout",
     "output_type": "stream",
     "text": [
      "RMSE (validação):  1.9836265342570005\n",
      "RMSE (treino):  1.3559726455584127\n"
     ]
    }
   ],
   "source": [
    "preds, rmse_val, rmse_train = avalia_classificador(modelGradientBoosting, kf, X, y, function_RMSE) \n",
    "print('RMSE (validação): ', rmse_val)\n",
    "print('RMSE (treino): ', rmse_train)"
   ]
  },
  {
   "cell_type": "markdown",
   "metadata": {},
   "source": [
    "#### SVM"
   ]
  },
  {
   "cell_type": "code",
   "execution_count": 61,
   "metadata": {},
   "outputs": [],
   "source": [
    "from sklearn import svm\n",
    "modelSVM = svm.SVR(gamma='auto')"
   ]
  },
  {
   "cell_type": "code",
   "execution_count": 63,
   "metadata": {},
   "outputs": [
    {
     "name": "stdout",
     "output_type": "stream",
     "text": [
      "RMSE (validação):  16.330125422036563\n",
      "RMSE (treino):  15.88325922378021\n"
     ]
    }
   ],
   "source": [
    "preds, rmse_val, rmse_train = avalia_classificador(modelSVM, kf, X, y, function_RMSE) \n",
    "print('RMSE (validação): ', rmse_val)\n",
    "print('RMSE (treino): ', rmse_train)"
   ]
  },
  {
   "cell_type": "markdown",
   "metadata": {},
   "source": [
    "#### Redes Neurais"
   ]
  },
  {
   "cell_type": "code",
   "execution_count": null,
   "metadata": {},
   "outputs": [],
   "source": []
  }
 ],
 "metadata": {
  "interpreter": {
   "hash": "ea3feb93049955c9508c5a2747c4309f27351fdb270bf15d30dfc831071eb49c"
  },
  "kernelspec": {
   "display_name": "Python 3",
   "language": "python",
   "name": "python3"
  },
  "language_info": {
   "codemirror_mode": {
    "name": "ipython",
    "version": 3
   },
   "file_extension": ".py",
   "mimetype": "text/x-python",
   "name": "python",
   "nbconvert_exporter": "python",
   "pygments_lexer": "ipython3",
   "version": "3.8.5"
  }
 },
 "nbformat": 4,
 "nbformat_minor": 2
}
