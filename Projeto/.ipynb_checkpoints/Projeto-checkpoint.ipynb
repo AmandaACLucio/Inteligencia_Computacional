{
 "cells": [
  {
   "cell_type": "markdown",
   "metadata": {},
   "source": [
    "# Projeto - Cálculo do diâmetro de um asteroide\n",
    "\n",
    "#### Amanda Lucio, Nayara Gomes"
   ]
  },
  {
   "cell_type": "markdown",
   "metadata": {},
   "source": [
    "O objetivo dos modelos é medir o diâmetro de um asteroide a partir de medidas sobre o mesmo. O *Dataset* utilizado será  **\"Open Asteroid Dataset\"** retirado do site https://www.kaggle.com."
   ]
  },
  {
   "cell_type": "markdown",
   "metadata": {},
   "source": [
    "Após baixar no Kaggle o arquivo *Asteroid_Updated.csv* contendo os dados sobre asteroides, vamos preparar nosso ambiente com as bibliotecas necessárias e depois importaremos os dados!"
   ]
  },
  {
   "cell_type": "markdown",
   "metadata": {},
   "source": [
    "## Importando as bibliotecas"
   ]
  },
  {
   "cell_type": "code",
   "execution_count": null,
   "metadata": {},
   "outputs": [],
   "source": [
    "import pandas as pd\n",
    "import numpy as np\n",
    "import matplotlib.pyplot as plt\n",
    "import seaborn as sns\n",
    "from scipy import stats\n",
    "from sklearn.model_selection import train_test_split\n",
    "\n",
    "from sklearn.linear_model import LinearRegression\n",
    "\n",
    "from sklearn.model_selection import KFold\n",
    "from sklearn import metrics\n",
    "from sklearn.model_selection import cross_val_score\n",
    "\n",
    "from sklearn.tree import DecisionTreeClassifier, plot_tree\n",
    "\n",
    "%matplotlib inline"
   ]
  },
  {
   "cell_type": "code",
   "execution_count": null,
   "metadata": {},
   "outputs": [],
   "source": [
    "dataAsteroid = pd.read_csv('Data/Asteroid.csv')\n",
    "dataAsteroid.head()"
   ]
  },
  {
   "cell_type": "markdown",
   "metadata": {},
   "source": []
  },
  {
   "cell_type": "markdown",
   "metadata": {},
   "source": [
    "### Variáveis do *Dataset*"
   ]
  },
  {
   "cell_type": "code",
   "execution_count": null,
   "metadata": {},
   "outputs": [],
   "source": [
    "dataAsteroid.columns\n",
    "\n"
   ]
  },
  {
   "cell_type": "code",
   "execution_count": null,
   "metadata": {},
   "outputs": [],
   "source": [
    "columns = ['a', 'e', 'i', 'om', 'w', 'q', 'ad', 'per_y', 'data_arc', 'n_obs_used', 'H', 'diameter','albedo', 'rot_per','moid', 'n', 'per', 'ma']\n",
    "\n",
    "dataAsteroid=dataAsteroid[columns]\n",
    "dataAsteroid = dataAsteroid.dropna(subset=[\"diameter\", \"rot_per\"])  #removendo linhas com diâmetro null\n",
    "dataAsteroid = dataAsteroid[pd.to_numeric(dataAsteroid['diameter'], errors='coerce').notnull()] #removendo linhas com valores não numéricos no diâmetro\n",
    "dataAsteroid = dataAsteroid.interpolate()\n",
    "\n",
    "dataAsteroid = dataAsteroid.astype(float)\n",
    "dataAsteroid = dataAsteroid.reset_index()\n"
   ]
  },
  {
   "cell_type": "code",
   "execution_count": null,
   "metadata": {
    "scrolled": true
   },
   "outputs": [],
   "source": [
    "percent_missing = dataAsteroid.isnull().sum() * 100 / len(dataAsteroid)\n",
    "missing_value_df = pd.DataFrame({'column_name': dataAsteroid.columns,\n",
    "                                 'percent_missing': percent_missing})\n",
    "missing_value_df.sort_values('percent_missing', ascending=False)"
   ]
  },
  {
   "cell_type": "markdown",
   "metadata": {},
   "source": [
    "## Diminuindo Dataset"
   ]
  },
  {
   "cell_type": "code",
   "execution_count": null,
   "metadata": {},
   "outputs": [],
   "source": [
    "len(dataAsteroid) #número de rows"
   ]
  },
  {
   "cell_type": "code",
   "execution_count": null,
   "metadata": {},
   "outputs": [],
   "source": [
    "np.random.seed(10)\n",
    "\n",
    "remove_n = 5000\n",
    "dataAsteroid_indices = np.random.choice(dataAsteroid.index, remove_n, replace=False)\n",
    "dataAsteroid = dataAsteroid.drop(dataAsteroid_indices)"
   ]
  },
  {
   "cell_type": "code",
   "execution_count": null,
   "metadata": {},
   "outputs": [],
   "source": [
    "len(dataAsteroid.index) #número de rows"
   ]
  },
  {
   "cell_type": "markdown",
   "metadata": {},
   "source": [
    "### Verificação da distribuição dos dados da variável resposta "
   ]
  },
  {
   "cell_type": "code",
   "execution_count": null,
   "metadata": {},
   "outputs": [],
   "source": [
    "sns.distplot(dataAsteroid['diameter'], color='black')\n",
    "plt.show()"
   ]
  },
  {
   "cell_type": "markdown",
   "metadata": {},
   "source": [
    "### Detectar e Remover outliers"
   ]
  },
  {
   "cell_type": "code",
   "execution_count": null,
   "metadata": {},
   "outputs": [],
   "source": [
    "dataAsteroid.describe()"
   ]
  },
  {
   "cell_type": "code",
   "execution_count": null,
   "metadata": {},
   "outputs": [],
   "source": [
    "# Removendo outliers a partir dos valores acima\n",
    "numOfOutliers= len(dataAsteroid)- len(dataAsteroid[(np.abs(stats.zscore(dataAsteroid)) < 3).all(axis=1)])\n",
    "dataAsteroid=pd.DataFrame(dataAsteroid[(np.abs(stats.zscore(dataAsteroid)) < 3).all(axis=1)])\n",
    "\n",
    "# dataAsteroid = dataAsteroid[dataAsteroid.a < 20]\n",
    "# dataAsteroid = dataAsteroid[dataAsteroid.q < 6]\n",
    "# dataAsteroid = dataAsteroid[dataAsteroid.n_obs_used < 6000]\n",
    "# dataAsteroid = dataAsteroid[dataAsteroid.per_y < 15]\n",
    "# dataAsteroid = dataAsteroid[dataAsteroid.diameter < 400]\n",
    "# dataAsteroid = dataAsteroid.reset_index()"
   ]
  },
  {
   "cell_type": "markdown",
   "metadata": {},
   "source": [
    "### Analisando correlações"
   ]
  },
  {
   "cell_type": "code",
   "execution_count": null,
   "metadata": {},
   "outputs": [],
   "source": [
    "corr_matrix = dataAsteroid.corr()\n",
    "corr_matrix[\"diameter\"].sort_values(ascending=False).head()"
   ]
  },
  {
   "cell_type": "code",
   "execution_count": null,
   "metadata": {},
   "outputs": [],
   "source": [
    "plt.subplots(figsize=(15,12))\n",
    "sns.heatmap(corr_matrix,annot=True,annot_kws={'size':10})"
   ]
  },
  {
   "cell_type": "markdown",
   "metadata": {},
   "source": [
    "### Separando Dados"
   ]
  },
  {
   "cell_type": "code",
   "execution_count": null,
   "metadata": {},
   "outputs": [],
   "source": [
    "X = dataAsteroid.drop(['diameter'],axis = 1)\n",
    "y = dataAsteroid['diameter']\n",
    "#x_train, x_test, y_train, y_test = train_test_split(x, y, test_size=0.33, random_state=1242)\n"
   ]
  },
  {
   "cell_type": "code",
   "execution_count": null,
   "metadata": {},
   "outputs": [],
   "source": [
    "X"
   ]
  },
  {
   "cell_type": "markdown",
   "metadata": {},
   "source": [
    "### Geramos os folds para validação cruzada"
   ]
  },
  {
   "cell_type": "code",
   "execution_count": null,
   "metadata": {},
   "outputs": [],
   "source": [
    "kf = KFold(n_splits=10, shuffle=True, random_state=111)"
   ]
  },
  {
   "cell_type": "code",
   "execution_count": null,
   "metadata": {},
   "outputs": [],
   "source": [
    "def avalia_classificador(model, kf, X, y, function_RMSE):\n",
    "    metric_valid = []\n",
    "    metric_train = []\n",
    "    y_preds = np.zeros(X.shape[0])\n",
    "    # a cada iteração em kf, temos k-1 conjuntos para treino e 1 para validação\n",
    "    # train e valid recebem os indices de treino e validação em cada rodada.\n",
    "    for train, valid in kf.split(X,y):\n",
    "        x_train = X.iloc[train] # escolhe apenas os indices de treino\n",
    "        y_train = y.iloc[train]\n",
    "        x_valid = X.iloc[valid] # escolhe apenas os indices de validação\n",
    "        y_valid = y.iloc[valid]\n",
    "        model.fit(x_train, y_train) # treina o classificador com dados de treino\n",
    "        y_pred_train = model.predict(x_train) # faz predições nos dados de treino\n",
    "        y_pred_valid = model.predict(x_valid) # faz predições nos dados de validação\n",
    "        y_preds[valid] = y_pred_valid # guarda as previsões do fold corrente\n",
    "        \n",
    "        # salvando métricas obtidas no dado de treino (k-1 folds) e validação (1 fold)\n",
    "        metric_valid.append(function_RMSE(y_valid, y_pred_valid)) \n",
    "        metric_train.append(function_RMSE(y_train, y_pred_train)) \n",
    "    \n",
    "    # retorna as previsões e a média das métricas de treino e validação\n",
    "    # obtidas nas iterações do Kfold\n",
    "    return y_preds, np.array(metric_valid).mean(), np.array(metric_train).mean()"
   ]
  },
  {
   "cell_type": "code",
   "execution_count": null,
   "metadata": {},
   "outputs": [],
   "source": [
    "from sklearn.metrics import mean_squared_error\n",
    "def function_RMSE(y_real, y_pred): \n",
    "    return mean_squared_error(y_real, y_pred)**0.5"
   ]
  },
  {
   "cell_type": "markdown",
   "metadata": {},
   "source": [
    "Modelos: \n",
    "\n",
    "* Modelos Lineares\n",
    "    * Regressão Linear\n",
    "* Modelos não-lineares    \n",
    "    * Árvores de decisão\n",
    "    * Random Forest\n",
    "    * Gradient Boosting\n",
    "    * SVM\n",
    "    * Redes Neurais"
   ]
  },
  {
   "cell_type": "markdown",
   "metadata": {},
   "source": [
    "#### Baseline"
   ]
  },
  {
   "cell_type": "code",
   "execution_count": null,
   "metadata": {},
   "outputs": [],
   "source": [
    "media_valor_m2 = np.mean(y)"
   ]
  },
  {
   "cell_type": "code",
   "execution_count": null,
   "metadata": {},
   "outputs": [],
   "source": [
    "#Gera um vetor artificial com o valor da média repetido pelo número de linhas do nosso conjunto.\n",
    "y_media = np.array([media_valor_m2]*y.shape[0])\n",
    "\n",
    "#Calcula o desempenho como se a predição do modelo fosse o y médio\n",
    "print(function_RMSE(y, y_media))"
   ]
  },
  {
   "cell_type": "markdown",
   "metadata": {},
   "source": [
    "#### Regressão Linear"
   ]
  },
  {
   "cell_type": "markdown",
   "metadata": {},
   "source": [
    "Temos o seguinte modelo para estimar o diâmetro do asteroide:\n",
    "\n",
    "**diameter = β0 + β1 × 'data_arc' + β2 ×'n_obs_used' + β3 × 'a'....**"
   ]
  },
  {
   "cell_type": "code",
   "execution_count": null,
   "metadata": {},
   "outputs": [],
   "source": [
    "from sklearn.linear_model import LinearRegression\n",
    "\n",
    "modelLinearRegression = LinearRegression(fit_intercept=True, normalize=True) "
   ]
  },
  {
   "cell_type": "code",
   "execution_count": null,
   "metadata": {},
   "outputs": [],
   "source": [
    "preds, rmse_val, rmse_train = avalia_classificador(modelLinearRegression, kf, X, y, function_RMSE) # treina, valida e calcula desempenho\n",
    "print('RMSE (validação): ', rmse_val)\n",
    "print('RMSE (treino): ', rmse_train)"
   ]
  },
  {
   "cell_type": "code",
   "execution_count": null,
   "metadata": {},
   "outputs": [],
   "source": [
    "from sklearn.preprocessing import PolynomialFeatures\n",
    "from sklearn.preprocessing import StandardScaler, MinMaxScaler\n",
    "\n",
    "# Cria uma nova matriz de atributos com as features polinomiais de grau 2\n",
    "X_new = PolynomialFeatures(2).fit_transform(X) \n",
    "\n",
    "# Reescalona os dados entre 0 e 1 (valor padrão do MinMaxScaler)\n",
    "X_new = MinMaxScaler().fit_transform(X_new)\n",
    "X_new = pd.DataFrame(X_new)\n",
    "print('Número de atributos após transformação:', X_new.shape[1])\n",
    "preds, rmse_val, rmse_train = avalia_classificador(modelLinearRegression, kf, X_new, y, function_RMSE) \n",
    "print('RMSE (validação): ', rmse_val)\n",
    "print('RMSE (treino): ', rmse_train)"
   ]
  },
  {
   "cell_type": "code",
   "execution_count": null,
   "metadata": {},
   "outputs": [],
   "source": [
    "plt.scatter(preds, y);\n",
    "plt.plot(preds,preds, c ='r')\n",
    "ax = plt.gca()\n",
    "ax.set_xlim([-50, 200])\n",
    "ax.set_ylim([-20, 120])\n",
    "\n",
    "plt.show()"
   ]
  },
  {
   "cell_type": "markdown",
   "metadata": {},
   "source": [
    "#### Árvore de decisão"
   ]
  },
  {
   "cell_type": "code",
   "execution_count": null,
   "metadata": {},
   "outputs": [],
   "source": [
    "from sklearn import tree\n",
    "modelTreeDecision = tree.DecisionTreeRegressor(max_features=5, max_depth=3, random_state=10)"
   ]
  },
  {
   "cell_type": "code",
   "execution_count": null,
   "metadata": {},
   "outputs": [],
   "source": [
    "preds, rmse_val, rmse_train = avalia_classificador(modelTreeDecision, kf, X, y, function_RMSE) \n",
    "print('RMSE (validação): ', rmse_val)\n",
    "print('RMSE (treino): ', rmse_train)"
   ]
  },
  {
   "cell_type": "code",
   "execution_count": null,
   "metadata": {},
   "outputs": [],
   "source": [
    "import graphviz \n",
    "\n",
    "columns = ['a', 'e', 'i', 'om', 'w', 'q', 'ad', 'per_y', 'data_arc', 'n_obs_used', 'H', 'diameter','albedo', 'rot_per','moid', 'n', 'per', 'ma']\n",
    "\n",
    "dot_data = tree.export_graphviz(modelTreeDecision, out_file=None, \n",
    "                                feature_names=columns,  \n",
    "                                filled=True, rounded=True,  \n",
    "                                special_characters=True)  \n",
    "graph = graphviz.Source(dot_data)  \n",
    "graph"
   ]
  },
  {
   "cell_type": "code",
   "execution_count": null,
   "metadata": {},
   "outputs": [],
   "source": []
  }
 ],
 "metadata": {
  "interpreter": {
   "hash": "ea3feb93049955c9508c5a2747c4309f27351fdb270bf15d30dfc831071eb49c"
  },
  "kernelspec": {
   "display_name": "Python 3",
   "language": "python",
   "name": "python3"
  },
  "language_info": {
   "codemirror_mode": {
    "name": "ipython",
    "version": 3
   },
   "file_extension": ".py",
   "mimetype": "text/x-python",
   "name": "python",
   "nbconvert_exporter": "python",
   "pygments_lexer": "ipython3",
   "version": "3.8.5"
  }
 },
 "nbformat": 4,
 "nbformat_minor": 2
}
