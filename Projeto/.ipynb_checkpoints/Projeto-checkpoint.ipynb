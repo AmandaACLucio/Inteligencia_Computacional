{
 "cells": [
  {
   "cell_type": "markdown",
   "metadata": {},
   "source": [
    "# Projeto - Cálculo do diâmetro de um asteroide\n",
    "\n",
    "#### Amanda Lucio, Nayara Gomes"
   ]
  },
  {
   "cell_type": "markdown",
   "metadata": {},
   "source": [
    "# Introdução"
   ]
  },
  {
   "cell_type": "markdown",
   "metadata": {},
   "source": [
    "Atualmente, o estudo aeroespacial tem como um dos seus problemas e estimativa do diâmetro de corpos espaciais, entre estes o asteroide. O objetivo dos modelos é medir o diâmetro de um asteroide a partir de medidas sobre o mesmo. O *Dataset* utilizado será  **\"Open Asteroid Dataset\"** retirado do site https://www.kaggle.com."
   ]
  },
  {
   "cell_type": "markdown",
   "metadata": {},
   "source": [
    "Após baixar no Kaggle o arquivo *Asteroid_Updated.csv* contendo os dados sobre asteroides, vamos preparar nosso ambiente com as bibliotecas necessárias e depois importaremos os dados!"
   ]
  },
  {
   "cell_type": "markdown",
   "metadata": {},
   "source": [
    "## Importando as bibliotecas"
   ]
  },
  {
   "cell_type": "code",
   "execution_count": 68,
   "metadata": {},
   "outputs": [],
   "source": [
    "import pandas as pd\n",
    "import numpy as np\n",
    "import matplotlib.pyplot as plt\n",
    "import seaborn as sns\n",
    "from scipy import stats\n",
    "from sklearn.model_selection import train_test_split\n",
    "\n",
    "from sklearn.linear_model import LinearRegression\n",
    "\n",
    "from sklearn.model_selection import KFold\n",
    "from sklearn import metrics\n",
    "from sklearn.model_selection import cross_val_score\n",
    "\n",
    "from sklearn.tree import DecisionTreeClassifier, plot_tree\n",
    "\n",
    "%matplotlib inline"
   ]
  },
  {
   "cell_type": "code",
   "execution_count": 69,
   "metadata": {},
   "outputs": [
    {
     "name": "stderr",
     "output_type": "stream",
     "text": [
      "C:\\Users\\nayara.gomes\\AppData\\Roaming\\Python\\Python39\\site-packages\\IPython\\core\\interactiveshell.py:3457: DtypeWarning: Columns (0,10,15,16,23,24) have mixed types.Specify dtype option on import or set low_memory=False.\n",
      "  exec(code_obj, self.user_global_ns, self.user_ns)\n"
     ]
    },
    {
     "data": {
      "text/html": [
       "<div>\n",
       "<style scoped>\n",
       "    .dataframe tbody tr th:only-of-type {\n",
       "        vertical-align: middle;\n",
       "    }\n",
       "\n",
       "    .dataframe tbody tr th {\n",
       "        vertical-align: top;\n",
       "    }\n",
       "\n",
       "    .dataframe thead th {\n",
       "        text-align: right;\n",
       "    }\n",
       "</style>\n",
       "<table border=\"1\" class=\"dataframe\">\n",
       "  <thead>\n",
       "    <tr style=\"text-align: right;\">\n",
       "      <th></th>\n",
       "      <th>name</th>\n",
       "      <th>a</th>\n",
       "      <th>e</th>\n",
       "      <th>i</th>\n",
       "      <th>om</th>\n",
       "      <th>w</th>\n",
       "      <th>q</th>\n",
       "      <th>ad</th>\n",
       "      <th>per_y</th>\n",
       "      <th>data_arc</th>\n",
       "      <th>...</th>\n",
       "      <th>UB</th>\n",
       "      <th>IR</th>\n",
       "      <th>spec_B</th>\n",
       "      <th>spec_T</th>\n",
       "      <th>G</th>\n",
       "      <th>moid</th>\n",
       "      <th>class</th>\n",
       "      <th>n</th>\n",
       "      <th>per</th>\n",
       "      <th>ma</th>\n",
       "    </tr>\n",
       "  </thead>\n",
       "  <tbody>\n",
       "    <tr>\n",
       "      <th>0</th>\n",
       "      <td>Ceres</td>\n",
       "      <td>2.769165</td>\n",
       "      <td>0.076009</td>\n",
       "      <td>10.594067</td>\n",
       "      <td>80.305532</td>\n",
       "      <td>73.597694</td>\n",
       "      <td>2.558684</td>\n",
       "      <td>2.979647</td>\n",
       "      <td>4.608202</td>\n",
       "      <td>8822.0</td>\n",
       "      <td>...</td>\n",
       "      <td>0.426</td>\n",
       "      <td>NaN</td>\n",
       "      <td>C</td>\n",
       "      <td>G</td>\n",
       "      <td>0.12</td>\n",
       "      <td>1.59478</td>\n",
       "      <td>MBA</td>\n",
       "      <td>0.213885</td>\n",
       "      <td>1683.145708</td>\n",
       "      <td>77.372096</td>\n",
       "    </tr>\n",
       "    <tr>\n",
       "      <th>1</th>\n",
       "      <td>Pallas</td>\n",
       "      <td>2.772466</td>\n",
       "      <td>0.230337</td>\n",
       "      <td>34.836234</td>\n",
       "      <td>173.080063</td>\n",
       "      <td>310.048857</td>\n",
       "      <td>2.133865</td>\n",
       "      <td>3.411067</td>\n",
       "      <td>4.616444</td>\n",
       "      <td>72318.0</td>\n",
       "      <td>...</td>\n",
       "      <td>0.284</td>\n",
       "      <td>NaN</td>\n",
       "      <td>B</td>\n",
       "      <td>B</td>\n",
       "      <td>0.11</td>\n",
       "      <td>1.23324</td>\n",
       "      <td>MBA</td>\n",
       "      <td>0.213503</td>\n",
       "      <td>1686.155999</td>\n",
       "      <td>59.699133</td>\n",
       "    </tr>\n",
       "    <tr>\n",
       "      <th>2</th>\n",
       "      <td>Juno</td>\n",
       "      <td>2.669150</td>\n",
       "      <td>0.256942</td>\n",
       "      <td>12.988919</td>\n",
       "      <td>169.852760</td>\n",
       "      <td>248.138626</td>\n",
       "      <td>1.983332</td>\n",
       "      <td>3.354967</td>\n",
       "      <td>4.360814</td>\n",
       "      <td>72684.0</td>\n",
       "      <td>...</td>\n",
       "      <td>0.433</td>\n",
       "      <td>NaN</td>\n",
       "      <td>Sk</td>\n",
       "      <td>S</td>\n",
       "      <td>0.32</td>\n",
       "      <td>1.03454</td>\n",
       "      <td>MBA</td>\n",
       "      <td>0.226019</td>\n",
       "      <td>1592.787285</td>\n",
       "      <td>34.925016</td>\n",
       "    </tr>\n",
       "    <tr>\n",
       "      <th>3</th>\n",
       "      <td>Vesta</td>\n",
       "      <td>2.361418</td>\n",
       "      <td>0.088721</td>\n",
       "      <td>7.141771</td>\n",
       "      <td>103.810804</td>\n",
       "      <td>150.728541</td>\n",
       "      <td>2.151909</td>\n",
       "      <td>2.570926</td>\n",
       "      <td>3.628837</td>\n",
       "      <td>24288.0</td>\n",
       "      <td>...</td>\n",
       "      <td>0.492</td>\n",
       "      <td>NaN</td>\n",
       "      <td>V</td>\n",
       "      <td>V</td>\n",
       "      <td>0.32</td>\n",
       "      <td>1.13948</td>\n",
       "      <td>MBA</td>\n",
       "      <td>0.271609</td>\n",
       "      <td>1325.432765</td>\n",
       "      <td>95.861936</td>\n",
       "    </tr>\n",
       "    <tr>\n",
       "      <th>4</th>\n",
       "      <td>Astraea</td>\n",
       "      <td>2.574249</td>\n",
       "      <td>0.191095</td>\n",
       "      <td>5.366988</td>\n",
       "      <td>141.576605</td>\n",
       "      <td>358.687607</td>\n",
       "      <td>2.082324</td>\n",
       "      <td>3.066174</td>\n",
       "      <td>4.130323</td>\n",
       "      <td>63507.0</td>\n",
       "      <td>...</td>\n",
       "      <td>0.411</td>\n",
       "      <td>NaN</td>\n",
       "      <td>S</td>\n",
       "      <td>S</td>\n",
       "      <td>NaN</td>\n",
       "      <td>1.09589</td>\n",
       "      <td>MBA</td>\n",
       "      <td>0.238632</td>\n",
       "      <td>1508.600458</td>\n",
       "      <td>282.366289</td>\n",
       "    </tr>\n",
       "  </tbody>\n",
       "</table>\n",
       "<p>5 rows × 31 columns</p>\n",
       "</div>"
      ],
      "text/plain": [
       "      name         a         e          i          om           w         q  \\\n",
       "0    Ceres  2.769165  0.076009  10.594067   80.305532   73.597694  2.558684   \n",
       "1   Pallas  2.772466  0.230337  34.836234  173.080063  310.048857  2.133865   \n",
       "2     Juno  2.669150  0.256942  12.988919  169.852760  248.138626  1.983332   \n",
       "3    Vesta  2.361418  0.088721   7.141771  103.810804  150.728541  2.151909   \n",
       "4  Astraea  2.574249  0.191095   5.366988  141.576605  358.687607  2.082324   \n",
       "\n",
       "         ad     per_y  data_arc  ...     UB  IR  spec_B spec_T     G     moid  \\\n",
       "0  2.979647  4.608202    8822.0  ...  0.426 NaN       C      G  0.12  1.59478   \n",
       "1  3.411067  4.616444   72318.0  ...  0.284 NaN       B      B  0.11  1.23324   \n",
       "2  3.354967  4.360814   72684.0  ...  0.433 NaN      Sk      S  0.32  1.03454   \n",
       "3  2.570926  3.628837   24288.0  ...  0.492 NaN       V      V  0.32  1.13948   \n",
       "4  3.066174  4.130323   63507.0  ...  0.411 NaN       S      S   NaN  1.09589   \n",
       "\n",
       "  class         n          per          ma  \n",
       "0   MBA  0.213885  1683.145708   77.372096  \n",
       "1   MBA  0.213503  1686.155999   59.699133  \n",
       "2   MBA  0.226019  1592.787285   34.925016  \n",
       "3   MBA  0.271609  1325.432765   95.861936  \n",
       "4   MBA  0.238632  1508.600458  282.366289  \n",
       "\n",
       "[5 rows x 31 columns]"
      ]
     },
     "execution_count": 69,
     "metadata": {},
     "output_type": "execute_result"
    }
   ],
   "source": [
    "dataAsteroid = pd.read_csv('Data/Asteroid.csv')\n",
    "dataAsteroid.head()"
   ]
  },
  {
   "cell_type": "markdown",
   "metadata": {},
   "source": []
  },
  {
   "cell_type": "markdown",
   "metadata": {},
   "source": [
    "# Dataset e Tecnologia"
   ]
  },
  {
   "cell_type": "markdown",
   "metadata": {},
   "source": [
    "### Variáveis do *Dataset*"
   ]
  },
  {
   "cell_type": "code",
   "execution_count": 70,
   "metadata": {},
   "outputs": [
    {
     "data": {
      "text/plain": [
       "Index(['name', 'a', 'e', 'i', 'om', 'w', 'q', 'ad', 'per_y', 'data_arc',\n",
       "       'condition_code', 'n_obs_used', 'H', 'neo', 'pha', 'diameter', 'extent',\n",
       "       'albedo', 'rot_per', 'GM', 'BV', 'UB', 'IR', 'spec_B', 'spec_T', 'G',\n",
       "       'moid', 'class', 'n', 'per', 'ma'],\n",
       "      dtype='object')"
      ]
     },
     "execution_count": 70,
     "metadata": {},
     "output_type": "execute_result"
    }
   ],
   "source": [
    "dataAsteroid.columns\n",
    "\n"
   ]
  },
  {
   "cell_type": "markdown",
   "metadata": {},
   "source": [
    "#### Dicionário de Variáveis"
   ]
  },
  {
   "cell_type": "markdown",
   "metadata": {},
   "source": [
    "- a: semi-major axis(au) → semi-eixo maior;\n",
    "- e: eccentricity → excentricidade;\n",
    "- i: Inclination with respect to x-y ecliptic plane(deg) → Inclinação em relação ao plano da eclíptica x-y;\n",
    "- om: Longitude of the ascending node → Longitude do nó ascendente;\n",
    "- w: argument of perihelion → Argumento do periélio;\n",
    "- q: perihelion distance(au) → Distância do periélio;\n",
    "- ad: aphelion distance(au) → Distância afélio;\n",
    "- per_y: Orbital period(YEARS) → Período Orbital (Years);\n",
    "- data_arc: data arc-span(d) → Dado arc-span;\n",
    "- condition_code: Orbit condition code → Código de condição de órbita;\n",
    "- n_obs_used: Number of observation used → Número de observações usadas;\n",
    "- H: Absolute Magnitude parameter → Parâmetro de Magnitude absoluto;\n",
    "- neo: Near Earth Object → Próximo do Objeto da Terra;\n",
    "- pha: Physically Hazardous Asteroid → Asteróide fisicamente perigoso;\n",
    "- diameter: Diameter of asteroid(Km) → Diâmetro de asteróide;\n",
    "- extent: Object bi/triaxial ellipsoid dimensions(Km) → Dimensões do elipsóide bi/triaxial do objeto;\n",
    "- albedo: geometric albedo → Albedo geométrico;\n",
    "- rot_per: Rotation Period(h) → Período de Rotação;\n",
    "- GM: Standard gravitational parameter, Product of mass and gravitational constant → Parâmetro gravitacional padrão, produto de massa e constante gravitacional;\n",
    "- BV: Color index B-V magnitude difference → Diferença de magnitude do índice de cor B-V;\n",
    "- UB: Color index U-B magnitude difference → Diferença de magnitude do índice de cor U-B;\n",
    "- IR: Color index I-R magnitude difference → Diferença de magnitude do índice de cor I-R;\n",
    "- spec_B: Spectral taxonomic type(SMASSII) → Tipo taxonômico espectral(SMASSII);\n",
    "- spec_T: Spectral taxonomic type(Tholen) → Tipo taxonômico espectral(Tholen);\n",
    "- G: Magnitude slope parameter → Parâmetro de inclinação de magnitude;\n",
    "- moid: Earth Minimum orbit Intersection Distance(au) → Distância mínima de interseção da órbita terrestre;\n",
    "- class: asteroid orbit class → Classe de órbita de asteroide;\n",
    "- n: Mean motion(deg/d) → Movimento médio;\n",
    "- per: orbital Period(d) → Período orbital;\n",
    "- ma: Mean anomaly(deg) → Anomalia média."
   ]
  },
  {
   "cell_type": "code",
   "execution_count": 71,
   "metadata": {},
   "outputs": [],
   "source": [
    "columns = ['a', 'e', 'i', 'om', 'w', 'q', 'ad', 'per_y', 'data_arc', 'n_obs_used', 'H', 'diameter','albedo', 'rot_per','moid', 'n', 'per', 'ma']\n",
    "\n",
    "dataAsteroid=dataAsteroid[columns]\n",
    "\n",
    "\n",
    "#Removendo dados para atingir melhores resultados com os modelos, pois dados removidos contém informações não válidas sobre o diâmetro\n",
    "dataAsteroid = dataAsteroid.dropna(subset=[\"diameter\", \"rot_per\"])  #removendo linhas com diâmetro null\n",
    "dataAsteroid = dataAsteroid[pd.to_numeric(dataAsteroid['diameter'], errors='coerce').notnull()] #removendo linhas com valores não numéricos no diâmetro\n",
    "dataAsteroid = dataAsteroid.interpolate()\n",
    "\n",
    "dataAsteroid = dataAsteroid.astype(float)\n",
    "dataAsteroid = dataAsteroid.reset_index()\n"
   ]
  },
  {
   "cell_type": "code",
   "execution_count": 72,
   "metadata": {
    "scrolled": false
   },
   "outputs": [
    {
     "data": {
      "text/html": [
       "<div>\n",
       "<style scoped>\n",
       "    .dataframe tbody tr th:only-of-type {\n",
       "        vertical-align: middle;\n",
       "    }\n",
       "\n",
       "    .dataframe tbody tr th {\n",
       "        vertical-align: top;\n",
       "    }\n",
       "\n",
       "    .dataframe thead th {\n",
       "        text-align: right;\n",
       "    }\n",
       "</style>\n",
       "<table border=\"1\" class=\"dataframe\">\n",
       "  <thead>\n",
       "    <tr style=\"text-align: right;\">\n",
       "      <th></th>\n",
       "      <th>column_name</th>\n",
       "      <th>percent_missing</th>\n",
       "    </tr>\n",
       "  </thead>\n",
       "  <tbody>\n",
       "    <tr>\n",
       "      <th>index</th>\n",
       "      <td>index</td>\n",
       "      <td>0.0</td>\n",
       "    </tr>\n",
       "    <tr>\n",
       "      <th>n_obs_used</th>\n",
       "      <td>n_obs_used</td>\n",
       "      <td>0.0</td>\n",
       "    </tr>\n",
       "    <tr>\n",
       "      <th>per</th>\n",
       "      <td>per</td>\n",
       "      <td>0.0</td>\n",
       "    </tr>\n",
       "    <tr>\n",
       "      <th>n</th>\n",
       "      <td>n</td>\n",
       "      <td>0.0</td>\n",
       "    </tr>\n",
       "    <tr>\n",
       "      <th>moid</th>\n",
       "      <td>moid</td>\n",
       "      <td>0.0</td>\n",
       "    </tr>\n",
       "    <tr>\n",
       "      <th>rot_per</th>\n",
       "      <td>rot_per</td>\n",
       "      <td>0.0</td>\n",
       "    </tr>\n",
       "    <tr>\n",
       "      <th>albedo</th>\n",
       "      <td>albedo</td>\n",
       "      <td>0.0</td>\n",
       "    </tr>\n",
       "    <tr>\n",
       "      <th>diameter</th>\n",
       "      <td>diameter</td>\n",
       "      <td>0.0</td>\n",
       "    </tr>\n",
       "    <tr>\n",
       "      <th>H</th>\n",
       "      <td>H</td>\n",
       "      <td>0.0</td>\n",
       "    </tr>\n",
       "    <tr>\n",
       "      <th>data_arc</th>\n",
       "      <td>data_arc</td>\n",
       "      <td>0.0</td>\n",
       "    </tr>\n",
       "    <tr>\n",
       "      <th>a</th>\n",
       "      <td>a</td>\n",
       "      <td>0.0</td>\n",
       "    </tr>\n",
       "    <tr>\n",
       "      <th>per_y</th>\n",
       "      <td>per_y</td>\n",
       "      <td>0.0</td>\n",
       "    </tr>\n",
       "    <tr>\n",
       "      <th>ad</th>\n",
       "      <td>ad</td>\n",
       "      <td>0.0</td>\n",
       "    </tr>\n",
       "    <tr>\n",
       "      <th>q</th>\n",
       "      <td>q</td>\n",
       "      <td>0.0</td>\n",
       "    </tr>\n",
       "    <tr>\n",
       "      <th>w</th>\n",
       "      <td>w</td>\n",
       "      <td>0.0</td>\n",
       "    </tr>\n",
       "    <tr>\n",
       "      <th>om</th>\n",
       "      <td>om</td>\n",
       "      <td>0.0</td>\n",
       "    </tr>\n",
       "    <tr>\n",
       "      <th>i</th>\n",
       "      <td>i</td>\n",
       "      <td>0.0</td>\n",
       "    </tr>\n",
       "    <tr>\n",
       "      <th>e</th>\n",
       "      <td>e</td>\n",
       "      <td>0.0</td>\n",
       "    </tr>\n",
       "    <tr>\n",
       "      <th>ma</th>\n",
       "      <td>ma</td>\n",
       "      <td>0.0</td>\n",
       "    </tr>\n",
       "  </tbody>\n",
       "</table>\n",
       "</div>"
      ],
      "text/plain": [
       "           column_name  percent_missing\n",
       "index            index              0.0\n",
       "n_obs_used  n_obs_used              0.0\n",
       "per                per              0.0\n",
       "n                    n              0.0\n",
       "moid              moid              0.0\n",
       "rot_per        rot_per              0.0\n",
       "albedo          albedo              0.0\n",
       "diameter      diameter              0.0\n",
       "H                    H              0.0\n",
       "data_arc      data_arc              0.0\n",
       "a                    a              0.0\n",
       "per_y            per_y              0.0\n",
       "ad                  ad              0.0\n",
       "q                    q              0.0\n",
       "w                    w              0.0\n",
       "om                  om              0.0\n",
       "i                    i              0.0\n",
       "e                    e              0.0\n",
       "ma                  ma              0.0"
      ]
     },
     "execution_count": 72,
     "metadata": {},
     "output_type": "execute_result"
    }
   ],
   "source": [
    "##Analisando a porcentagem de dados faltando\n",
    "\n",
    "percent_missing = dataAsteroid.isnull().sum() * 100 / len(dataAsteroid)\n",
    "missing_value_df = pd.DataFrame({'column_name': dataAsteroid.columns,\n",
    "                                 'percent_missing': percent_missing})\n",
    "missing_value_df.sort_values('percent_missing', ascending=False)"
   ]
  },
  {
   "cell_type": "markdown",
   "metadata": {},
   "source": [
    "Podemos então concluir que todos os dados presentes nas outras variáveis do dataset são válidos para serem usados no modelo."
   ]
  },
  {
   "cell_type": "markdown",
   "metadata": {},
   "source": [
    "## Diminuindo Dataset"
   ]
  },
  {
   "cell_type": "markdown",
   "metadata": {},
   "source": [
    "###### Como podemos ver abaixo, nosso dataset possui mais de 10.000 linhas, o que pode prejudicar a performance do projeto."
   ]
  },
  {
   "cell_type": "code",
   "execution_count": 73,
   "metadata": {},
   "outputs": [
    {
     "data": {
      "text/plain": [
       "11187"
      ]
     },
     "execution_count": 73,
     "metadata": {},
     "output_type": "execute_result"
    }
   ],
   "source": [
    "len(dataAsteroid) #número de rows"
   ]
  },
  {
   "cell_type": "markdown",
   "metadata": {},
   "source": [
    "###### Sendo assim, foram retirados 6.000 linhas do dataset com o objetivo de melhorar o desempenho."
   ]
  },
  {
   "cell_type": "code",
   "execution_count": 74,
   "metadata": {},
   "outputs": [],
   "source": [
    "np.random.seed(10)\n",
    "\n",
    "remove_n = 6000\n",
    "dataAsteroid_indices = np.random.choice(dataAsteroid.index, remove_n, replace=False)\n",
    "dataAsteroid = dataAsteroid.drop(dataAsteroid_indices)"
   ]
  },
  {
   "cell_type": "code",
   "execution_count": 75,
   "metadata": {},
   "outputs": [
    {
     "data": {
      "text/plain": [
       "5187"
      ]
     },
     "execution_count": 75,
     "metadata": {},
     "output_type": "execute_result"
    }
   ],
   "source": [
    "len(dataAsteroid) #número de rows"
   ]
  },
  {
   "cell_type": "markdown",
   "metadata": {},
   "source": [
    "### Verificação da distribuição dos dados da variável resposta "
   ]
  },
  {
   "cell_type": "code",
   "execution_count": 107,
   "metadata": {
    "scrolled": true
   },
   "outputs": [
    {
     "name": "stderr",
     "output_type": "stream",
     "text": [
      "C:\\Python39\\lib\\site-packages\\seaborn\\distributions.py:2619: FutureWarning: `distplot` is a deprecated function and will be removed in a future version. Please adapt your code to use either `displot` (a figure-level function with similar flexibility) or `histplot` (an axes-level function for histograms).\n",
      "  warnings.warn(msg, FutureWarning)\n"
     ]
    },
    {
     "data": {
      "image/png": "[encoded data removed]",
      "text/plain": [
       "<Figure size 432x288 with 1 Axes>"
      ]
     },
     "metadata": {
      "needs_background": "light"
     },
     "output_type": "display_data"
    }
   ],
   "source": [
    "sns.istplot(dataAsteroid['diameter'], color='black', kde=True)\n",
    "plt.show()"
   ]
  },
  {
   "cell_type": "markdown",
   "metadata": {},
   "source": [
    "#### Histograma dos Valores por Atributo"
   ]
  },
  {
   "cell_type": "code",
   "execution_count": 77,
   "metadata": {},
   "outputs": [
    {
     "data": {
      "image/png": "[encoded data removed]",
      "text/plain": [
       "<Figure size 720x576 with 20 Axes>"
      ]
     },
     "metadata": {
      "needs_background": "light"
     },
     "output_type": "display_data"
    }
   ],
   "source": [
    "dataAsteroid.hist(figsize=(10,8))\n",
    "plt.tight_layout()\n",
    "plt.show()"
   ]
  },
  {
   "cell_type": "markdown",
   "metadata": {},
   "source": [
    "### Detectar e Remover outliers"
   ]
  },
  {
   "cell_type": "code",
   "execution_count": 78,
   "metadata": {},
   "outputs": [
    {
     "data": {
      "text/html": [
       "<div>\n",
       "<style scoped>\n",
       "    .dataframe tbody tr th:only-of-type {\n",
       "        vertical-align: middle;\n",
       "    }\n",
       "\n",
       "    .dataframe tbody tr th {\n",
       "        vertical-align: top;\n",
       "    }\n",
       "\n",
       "    .dataframe thead th {\n",
       "        text-align: right;\n",
       "    }\n",
       "</style>\n",
       "<table border=\"1\" class=\"dataframe\">\n",
       "  <thead>\n",
       "    <tr style=\"text-align: right;\">\n",
       "      <th></th>\n",
       "      <th>index</th>\n",
       "      <th>a</th>\n",
       "      <th>e</th>\n",
       "      <th>i</th>\n",
       "      <th>om</th>\n",
       "      <th>w</th>\n",
       "      <th>q</th>\n",
       "      <th>ad</th>\n",
       "      <th>per_y</th>\n",
       "      <th>data_arc</th>\n",
       "      <th>n_obs_used</th>\n",
       "      <th>H</th>\n",
       "      <th>diameter</th>\n",
       "      <th>albedo</th>\n",
       "      <th>rot_per</th>\n",
       "      <th>moid</th>\n",
       "      <th>n</th>\n",
       "      <th>per</th>\n",
       "      <th>ma</th>\n",
       "    </tr>\n",
       "  </thead>\n",
       "  <tbody>\n",
       "    <tr>\n",
       "      <th>count</th>\n",
       "      <td>5187.000000</td>\n",
       "      <td>5187.000000</td>\n",
       "      <td>5187.000000</td>\n",
       "      <td>5187.000000</td>\n",
       "      <td>5187.000000</td>\n",
       "      <td>5187.000000</td>\n",
       "      <td>5187.000000</td>\n",
       "      <td>5187.000000</td>\n",
       "      <td>5187.000000</td>\n",
       "      <td>5187.000000</td>\n",
       "      <td>5187.000000</td>\n",
       "      <td>5187.000000</td>\n",
       "      <td>5187.000000</td>\n",
       "      <td>5187.000000</td>\n",
       "      <td>5187.000000</td>\n",
       "      <td>5187.000000</td>\n",
       "      <td>5187.000000</td>\n",
       "      <td>5187.000000</td>\n",
       "      <td>5187.000000</td>\n",
       "    </tr>\n",
       "    <tr>\n",
       "      <th>mean</th>\n",
       "      <td>46856.055138</td>\n",
       "      <td>2.778960</td>\n",
       "      <td>0.150991</td>\n",
       "      <td>9.691199</td>\n",
       "      <td>178.571297</td>\n",
       "      <td>175.448418</td>\n",
       "      <td>2.366787</td>\n",
       "      <td>3.191132</td>\n",
       "      <td>4.815596</td>\n",
       "      <td>18020.740891</td>\n",
       "      <td>1559.649508</td>\n",
       "      <td>13.365408</td>\n",
       "      <td>15.458371</td>\n",
       "      <td>0.191017</td>\n",
       "      <td>25.257440</td>\n",
       "      <td>1.387585</td>\n",
       "      <td>0.235739</td>\n",
       "      <td>1758.896596</td>\n",
       "      <td>178.902467</td>\n",
       "    </tr>\n",
       "    <tr>\n",
       "      <th>std</th>\n",
       "      <td>75297.252129</td>\n",
       "      <td>1.093906</td>\n",
       "      <td>0.090669</td>\n",
       "      <td>6.961456</td>\n",
       "      <td>103.292974</td>\n",
       "      <td>104.865684</td>\n",
       "      <td>0.907440</td>\n",
       "      <td>1.390011</td>\n",
       "      <td>5.648757</td>\n",
       "      <td>11664.987548</td>\n",
       "      <td>768.049711</td>\n",
       "      <td>2.035764</td>\n",
       "      <td>30.626553</td>\n",
       "      <td>0.143423</td>\n",
       "      <td>83.281266</td>\n",
       "      <td>0.896642</td>\n",
       "      <td>0.098681</td>\n",
       "      <td>2063.208670</td>\n",
       "      <td>102.531026</td>\n",
       "    </tr>\n",
       "    <tr>\n",
       "      <th>min</th>\n",
       "      <td>1.000000</td>\n",
       "      <td>0.661837</td>\n",
       "      <td>0.002606</td>\n",
       "      <td>0.081659</td>\n",
       "      <td>0.000738</td>\n",
       "      <td>0.029757</td>\n",
       "      <td>0.139981</td>\n",
       "      <td>1.014592</td>\n",
       "      <td>0.538437</td>\n",
       "      <td>3.000000</td>\n",
       "      <td>58.000000</td>\n",
       "      <td>3.200000</td>\n",
       "      <td>0.002500</td>\n",
       "      <td>0.011600</td>\n",
       "      <td>0.043333</td>\n",
       "      <td>0.000316</td>\n",
       "      <td>0.003522</td>\n",
       "      <td>196.664194</td>\n",
       "      <td>0.057141</td>\n",
       "    </tr>\n",
       "    <tr>\n",
       "      <th>25%</th>\n",
       "      <td>3761.000000</td>\n",
       "      <td>2.384381</td>\n",
       "      <td>0.089574</td>\n",
       "      <td>4.408852</td>\n",
       "      <td>91.657945</td>\n",
       "      <td>84.350314</td>\n",
       "      <td>1.982516</td>\n",
       "      <td>2.789821</td>\n",
       "      <td>3.681898</td>\n",
       "      <td>8665.500000</td>\n",
       "      <td>969.000000</td>\n",
       "      <td>12.300000</td>\n",
       "      <td>3.975500</td>\n",
       "      <td>0.070000</td>\n",
       "      <td>4.670500</td>\n",
       "      <td>0.991856</td>\n",
       "      <td>0.187034</td>\n",
       "      <td>1344.813106</td>\n",
       "      <td>92.460128</td>\n",
       "    </tr>\n",
       "    <tr>\n",
       "      <th>50%</th>\n",
       "      <td>16158.000000</td>\n",
       "      <td>2.665997</td>\n",
       "      <td>0.138592</td>\n",
       "      <td>8.484207</td>\n",
       "      <td>172.446236</td>\n",
       "      <td>171.418018</td>\n",
       "      <td>2.264013</td>\n",
       "      <td>3.062928</td>\n",
       "      <td>4.353091</td>\n",
       "      <td>13920.000000</td>\n",
       "      <td>1546.000000</td>\n",
       "      <td>13.600000</td>\n",
       "      <td>6.584000</td>\n",
       "      <td>0.170000</td>\n",
       "      <td>7.576600</td>\n",
       "      <td>1.280810</td>\n",
       "      <td>0.226420</td>\n",
       "      <td>1589.966597</td>\n",
       "      <td>177.679834</td>\n",
       "    </tr>\n",
       "    <tr>\n",
       "      <th>75%</th>\n",
       "      <td>55291.500000</td>\n",
       "      <td>3.028234</td>\n",
       "      <td>0.193889</td>\n",
       "      <td>13.181065</td>\n",
       "      <td>270.880700</td>\n",
       "      <td>267.949537</td>\n",
       "      <td>2.657737</td>\n",
       "      <td>3.400997</td>\n",
       "      <td>5.269779</td>\n",
       "      <td>24602.000000</td>\n",
       "      <td>2110.500000</td>\n",
       "      <td>14.700000</td>\n",
       "      <td>12.732500</td>\n",
       "      <td>0.273000</td>\n",
       "      <td>15.000000</td>\n",
       "      <td>1.663290</td>\n",
       "      <td>0.267695</td>\n",
       "      <td>1924.786651</td>\n",
       "      <td>265.475537</td>\n",
       "    </tr>\n",
       "    <tr>\n",
       "      <th>max</th>\n",
       "      <td>729174.000000</td>\n",
       "      <td>42.781267</td>\n",
       "      <td>0.889898</td>\n",
       "      <td>64.006900</td>\n",
       "      <td>359.899762</td>\n",
       "      <td>359.988886</td>\n",
       "      <td>40.465671</td>\n",
       "      <td>47.240969</td>\n",
       "      <td>279.826385</td>\n",
       "      <td>72684.000000</td>\n",
       "      <td>9325.000000</td>\n",
       "      <td>29.900000</td>\n",
       "      <td>900.000000</td>\n",
       "      <td>1.000000</td>\n",
       "      <td>1641.000000</td>\n",
       "      <td>39.507000</td>\n",
       "      <td>1.830531</td>\n",
       "      <td>102206.587270</td>\n",
       "      <td>359.903144</td>\n",
       "    </tr>\n",
       "  </tbody>\n",
       "</table>\n",
       "</div>"
      ],
      "text/plain": [
       "               index            a            e            i           om  \\\n",
       "count    5187.000000  5187.000000  5187.000000  5187.000000  5187.000000   \n",
       "mean    46856.055138     2.778960     0.150991     9.691199   178.571297   \n",
       "std     75297.252129     1.093906     0.090669     6.961456   103.292974   \n",
       "min         1.000000     0.661837     0.002606     0.081659     0.000738   \n",
       "25%      3761.000000     2.384381     0.089574     4.408852    91.657945   \n",
       "50%     16158.000000     2.665997     0.138592     8.484207   172.446236   \n",
       "75%     55291.500000     3.028234     0.193889    13.181065   270.880700   \n",
       "max    729174.000000    42.781267     0.889898    64.006900   359.899762   \n",
       "\n",
       "                 w            q           ad        per_y      data_arc  \\\n",
       "count  5187.000000  5187.000000  5187.000000  5187.000000   5187.000000   \n",
       "mean    175.448418     2.366787     3.191132     4.815596  18020.740891   \n",
       "std     104.865684     0.907440     1.390011     5.648757  11664.987548   \n",
       "min       0.029757     0.139981     1.014592     0.538437      3.000000   \n",
       "25%      84.350314     1.982516     2.789821     3.681898   8665.500000   \n",
       "50%     171.418018     2.264013     3.062928     4.353091  13920.000000   \n",
       "75%     267.949537     2.657737     3.400997     5.269779  24602.000000   \n",
       "max     359.988886    40.465671    47.240969   279.826385  72684.000000   \n",
       "\n",
       "        n_obs_used            H     diameter       albedo      rot_per  \\\n",
       "count  5187.000000  5187.000000  5187.000000  5187.000000  5187.000000   \n",
       "mean   1559.649508    13.365408    15.458371     0.191017    25.257440   \n",
       "std     768.049711     2.035764    30.626553     0.143423    83.281266   \n",
       "min      58.000000     3.200000     0.002500     0.011600     0.043333   \n",
       "25%     969.000000    12.300000     3.975500     0.070000     4.670500   \n",
       "50%    1546.000000    13.600000     6.584000     0.170000     7.576600   \n",
       "75%    2110.500000    14.700000    12.732500     0.273000    15.000000   \n",
       "max    9325.000000    29.900000   900.000000     1.000000  1641.000000   \n",
       "\n",
       "              moid            n            per           ma  \n",
       "count  5187.000000  5187.000000    5187.000000  5187.000000  \n",
       "mean      1.387585     0.235739    1758.896596   178.902467  \n",
       "std       0.896642     0.098681    2063.208670   102.531026  \n",
       "min       0.000316     0.003522     196.664194     0.057141  \n",
       "25%       0.991856     0.187034    1344.813106    92.460128  \n",
       "50%       1.280810     0.226420    1589.966597   177.679834  \n",
       "75%       1.663290     0.267695    1924.786651   265.475537  \n",
       "max      39.507000     1.830531  102206.587270   359.903144  "
      ]
     },
     "execution_count": 78,
     "metadata": {},
     "output_type": "execute_result"
    }
   ],
   "source": [
    "dataAsteroid.describe()"
   ]
  },
  {
   "cell_type": "code",
   "execution_count": 79,
   "metadata": {},
   "outputs": [],
   "source": [
    "# Removendo outliers a partir dos valores acima\n",
    "numOfOutliers= len(dataAsteroid)- len(dataAsteroid[(np.abs(stats.zscore(dataAsteroid)) < 3).all(axis=1)])\n",
    "dataAsteroid=pd.DataFrame(dataAsteroid[(np.abs(stats.zscore(dataAsteroid)) < 3).all(axis=1)])\n",
    "\n",
    "# dataAsteroid = dataAsteroid[dataAsteroid.a < 20]\n",
    "# dataAsteroid = dataAsteroid[dataAsteroid.q < 6]\n",
    "# dataAsteroid = dataAsteroid[dataAsteroid.n_obs_used < 6000]\n",
    "# dataAsteroid = dataAsteroid[dataAsteroid.per_y < 15]\n",
    "# dataAsteroid = dataAsteroid[dataAsteroid.diameter < 400]\n",
    "# dataAsteroid = dataAsteroid.reset_index()"
   ]
  },
  {
   "cell_type": "markdown",
   "metadata": {},
   "source": [
    "### Analisando correlações"
   ]
  },
  {
   "cell_type": "code",
   "execution_count": 80,
   "metadata": {},
   "outputs": [
    {
     "data": {
      "text/plain": [
       "diameter      1.000000\n",
       "data_arc      0.629497\n",
       "n_obs_used    0.502849\n",
       "a             0.446125\n",
       "per           0.441462\n",
       "Name: diameter, dtype: float64"
      ]
     },
     "execution_count": 80,
     "metadata": {},
     "output_type": "execute_result"
    }
   ],
   "source": [
    "corr_matrix = dataAsteroid.corr()\n",
    "corr_matrix[\"diameter\"].sort_values(ascending=False).head()"
   ]
  },
  {
   "cell_type": "code",
   "execution_count": 81,
   "metadata": {},
   "outputs": [
    {
     "data": {
      "text/plain": [
       "<AxesSubplot:>"
      ]
     },
     "execution_count": 81,
     "metadata": {},
     "output_type": "execute_result"
    },
    {
     "data": {
      "image/png": "[encoded data removed]",
      "text/plain": [
       "<Figure size 1080x864 with 2 Axes>"
      ]
     },
     "metadata": {
      "needs_background": "light"
     },
     "output_type": "display_data"
    }
   ],
   "source": [
    "plt.subplots(figsize=(15,12))\n",
    "sns.heatmap(corr_matrix,annot=True,annot_kws={'size':10})"
   ]
  },
  {
   "cell_type": "markdown",
   "metadata": {},
   "source": [
    "### Definindo X e y"
   ]
  },
  {
   "cell_type": "code",
   "execution_count": 82,
   "metadata": {},
   "outputs": [],
   "source": [
    "X = dataAsteroid.drop(['diameter'],axis = 1)\n",
    "y = dataAsteroid['diameter']\n",
    "#x_train, x_test, y_train, y_test = train_test_split(x, y, test_size=0.33, random_state=1242)\n"
   ]
  },
  {
   "cell_type": "code",
   "execution_count": 83,
   "metadata": {},
   "outputs": [
    {
     "data": {
      "text/html": [
       "<div>\n",
       "<style scoped>\n",
       "    .dataframe tbody tr th:only-of-type {\n",
       "        vertical-align: middle;\n",
       "    }\n",
       "\n",
       "    .dataframe tbody tr th {\n",
       "        vertical-align: top;\n",
       "    }\n",
       "\n",
       "    .dataframe thead th {\n",
       "        text-align: right;\n",
       "    }\n",
       "</style>\n",
       "<table border=\"1\" class=\"dataframe\">\n",
       "  <thead>\n",
       "    <tr style=\"text-align: right;\">\n",
       "      <th></th>\n",
       "      <th>index</th>\n",
       "      <th>a</th>\n",
       "      <th>e</th>\n",
       "      <th>i</th>\n",
       "      <th>om</th>\n",
       "      <th>w</th>\n",
       "      <th>q</th>\n",
       "      <th>ad</th>\n",
       "      <th>per_y</th>\n",
       "      <th>data_arc</th>\n",
       "      <th>n_obs_used</th>\n",
       "      <th>H</th>\n",
       "      <th>albedo</th>\n",
       "      <th>rot_per</th>\n",
       "      <th>moid</th>\n",
       "      <th>n</th>\n",
       "      <th>per</th>\n",
       "      <th>ma</th>\n",
       "    </tr>\n",
       "  </thead>\n",
       "  <tbody>\n",
       "    <tr>\n",
       "      <th>75</th>\n",
       "      <td>76</td>\n",
       "      <td>2.668111</td>\n",
       "      <td>0.132298</td>\n",
       "      <td>2.422958</td>\n",
       "      <td>1.149350</td>\n",
       "      <td>61.830284</td>\n",
       "      <td>2.315125</td>\n",
       "      <td>3.021097</td>\n",
       "      <td>4.358269</td>\n",
       "      <td>51236.0</td>\n",
       "      <td>2817.0</td>\n",
       "      <td>8.52</td>\n",
       "      <td>0.1770</td>\n",
       "      <td>9.0120</td>\n",
       "      <td>1.329080</td>\n",
       "      <td>0.226151</td>\n",
       "      <td>1591.857740</td>\n",
       "      <td>283.372844</td>\n",
       "    </tr>\n",
       "    <tr>\n",
       "      <th>141</th>\n",
       "      <td>142</td>\n",
       "      <td>2.760357</td>\n",
       "      <td>0.074406</td>\n",
       "      <td>11.444569</td>\n",
       "      <td>332.983835</td>\n",
       "      <td>252.396104</td>\n",
       "      <td>2.554970</td>\n",
       "      <td>2.965745</td>\n",
       "      <td>4.586233</td>\n",
       "      <td>50966.0</td>\n",
       "      <td>2594.0</td>\n",
       "      <td>9.12</td>\n",
       "      <td>0.0440</td>\n",
       "      <td>22.0050</td>\n",
       "      <td>1.575910</td>\n",
       "      <td>0.214910</td>\n",
       "      <td>1675.121685</td>\n",
       "      <td>81.082066</td>\n",
       "    </tr>\n",
       "    <tr>\n",
       "      <th>153</th>\n",
       "      <td>154</td>\n",
       "      <td>2.755993</td>\n",
       "      <td>0.277138</td>\n",
       "      <td>11.387527</td>\n",
       "      <td>40.994893</td>\n",
       "      <td>45.859915</td>\n",
       "      <td>1.992201</td>\n",
       "      <td>3.519784</td>\n",
       "      <td>4.575360</td>\n",
       "      <td>52511.0</td>\n",
       "      <td>2202.0</td>\n",
       "      <td>11.39</td>\n",
       "      <td>0.0270</td>\n",
       "      <td>7.9597</td>\n",
       "      <td>1.025790</td>\n",
       "      <td>0.215420</td>\n",
       "      <td>1671.150404</td>\n",
       "      <td>89.093191</td>\n",
       "    </tr>\n",
       "    <tr>\n",
       "      <th>156</th>\n",
       "      <td>157</td>\n",
       "      <td>2.870949</td>\n",
       "      <td>0.051580</td>\n",
       "      <td>1.005095</td>\n",
       "      <td>277.699087</td>\n",
       "      <td>145.264275</td>\n",
       "      <td>2.722867</td>\n",
       "      <td>3.019032</td>\n",
       "      <td>4.864593</td>\n",
       "      <td>46100.0</td>\n",
       "      <td>2769.0</td>\n",
       "      <td>9.27</td>\n",
       "      <td>0.2130</td>\n",
       "      <td>14.2180</td>\n",
       "      <td>1.735520</td>\n",
       "      <td>0.202612</td>\n",
       "      <td>1776.792538</td>\n",
       "      <td>215.300126</td>\n",
       "    </tr>\n",
       "    <tr>\n",
       "      <th>158</th>\n",
       "      <td>159</td>\n",
       "      <td>2.727734</td>\n",
       "      <td>0.066975</td>\n",
       "      <td>3.823882</td>\n",
       "      <td>8.599983</td>\n",
       "      <td>52.361985</td>\n",
       "      <td>2.545043</td>\n",
       "      <td>2.910424</td>\n",
       "      <td>4.505169</td>\n",
       "      <td>44502.0</td>\n",
       "      <td>2746.0</td>\n",
       "      <td>9.08</td>\n",
       "      <td>0.0625</td>\n",
       "      <td>11.0330</td>\n",
       "      <td>1.559190</td>\n",
       "      <td>0.218777</td>\n",
       "      <td>1645.513140</td>\n",
       "      <td>3.820287</td>\n",
       "    </tr>\n",
       "    <tr>\n",
       "      <th>...</th>\n",
       "      <td>...</td>\n",
       "      <td>...</td>\n",
       "      <td>...</td>\n",
       "      <td>...</td>\n",
       "      <td>...</td>\n",
       "      <td>...</td>\n",
       "      <td>...</td>\n",
       "      <td>...</td>\n",
       "      <td>...</td>\n",
       "      <td>...</td>\n",
       "      <td>...</td>\n",
       "      <td>...</td>\n",
       "      <td>...</td>\n",
       "      <td>...</td>\n",
       "      <td>...</td>\n",
       "      <td>...</td>\n",
       "      <td>...</td>\n",
       "      <td>...</td>\n",
       "    </tr>\n",
       "    <tr>\n",
       "      <th>10942</th>\n",
       "      <td>270252</td>\n",
       "      <td>2.424044</td>\n",
       "      <td>0.218163</td>\n",
       "      <td>10.077711</td>\n",
       "      <td>172.488905</td>\n",
       "      <td>204.148419</td>\n",
       "      <td>1.895206</td>\n",
       "      <td>2.952881</td>\n",
       "      <td>3.774147</td>\n",
       "      <td>6521.0</td>\n",
       "      <td>407.0</td>\n",
       "      <td>16.30</td>\n",
       "      <td>0.0400</td>\n",
       "      <td>52.7380</td>\n",
       "      <td>0.899505</td>\n",
       "      <td>0.261152</td>\n",
       "      <td>1378.507338</td>\n",
       "      <td>251.341642</td>\n",
       "    </tr>\n",
       "    <tr>\n",
       "      <th>10944</th>\n",
       "      <td>271623</td>\n",
       "      <td>2.666877</td>\n",
       "      <td>0.192752</td>\n",
       "      <td>4.405916</td>\n",
       "      <td>111.272850</td>\n",
       "      <td>217.611731</td>\n",
       "      <td>2.152830</td>\n",
       "      <td>3.180924</td>\n",
       "      <td>4.355246</td>\n",
       "      <td>7637.0</td>\n",
       "      <td>308.0</td>\n",
       "      <td>16.30</td>\n",
       "      <td>0.0480</td>\n",
       "      <td>7.4390</td>\n",
       "      <td>1.142610</td>\n",
       "      <td>0.226308</td>\n",
       "      <td>1590.753469</td>\n",
       "      <td>136.957597</td>\n",
       "    </tr>\n",
       "    <tr>\n",
       "      <th>10945</th>\n",
       "      <td>271715</td>\n",
       "      <td>3.154176</td>\n",
       "      <td>0.089834</td>\n",
       "      <td>17.653518</td>\n",
       "      <td>241.722441</td>\n",
       "      <td>42.122387</td>\n",
       "      <td>2.870824</td>\n",
       "      <td>3.437529</td>\n",
       "      <td>5.601923</td>\n",
       "      <td>5408.0</td>\n",
       "      <td>331.0</td>\n",
       "      <td>14.90</td>\n",
       "      <td>0.0470</td>\n",
       "      <td>19.3570</td>\n",
       "      <td>1.877440</td>\n",
       "      <td>0.175944</td>\n",
       "      <td>2046.102395</td>\n",
       "      <td>286.839428</td>\n",
       "    </tr>\n",
       "    <tr>\n",
       "      <th>10947</th>\n",
       "      <td>272554</td>\n",
       "      <td>2.630973</td>\n",
       "      <td>0.268370</td>\n",
       "      <td>12.324045</td>\n",
       "      <td>247.951634</td>\n",
       "      <td>198.002300</td>\n",
       "      <td>1.924898</td>\n",
       "      <td>3.337048</td>\n",
       "      <td>4.267591</td>\n",
       "      <td>6318.0</td>\n",
       "      <td>506.0</td>\n",
       "      <td>15.30</td>\n",
       "      <td>0.2510</td>\n",
       "      <td>4.9350</td>\n",
       "      <td>0.944417</td>\n",
       "      <td>0.230956</td>\n",
       "      <td>1558.737564</td>\n",
       "      <td>45.577334</td>\n",
       "    </tr>\n",
       "    <tr>\n",
       "      <th>10948</th>\n",
       "      <td>272649</td>\n",
       "      <td>2.627101</td>\n",
       "      <td>0.179756</td>\n",
       "      <td>1.716052</td>\n",
       "      <td>337.449891</td>\n",
       "      <td>115.304961</td>\n",
       "      <td>2.154863</td>\n",
       "      <td>3.099339</td>\n",
       "      <td>4.258174</td>\n",
       "      <td>6243.0</td>\n",
       "      <td>202.0</td>\n",
       "      <td>17.30</td>\n",
       "      <td>0.0660</td>\n",
       "      <td>5.3300</td>\n",
       "      <td>1.172270</td>\n",
       "      <td>0.231467</td>\n",
       "      <td>1555.298161</td>\n",
       "      <td>36.953988</td>\n",
       "    </tr>\n",
       "  </tbody>\n",
       "</table>\n",
       "<p>4668 rows × 18 columns</p>\n",
       "</div>"
      ],
      "text/plain": [
       "        index         a         e          i          om           w  \\\n",
       "75         76  2.668111  0.132298   2.422958    1.149350   61.830284   \n",
       "141       142  2.760357  0.074406  11.444569  332.983835  252.396104   \n",
       "153       154  2.755993  0.277138  11.387527   40.994893   45.859915   \n",
       "156       157  2.870949  0.051580   1.005095  277.699087  145.264275   \n",
       "158       159  2.727734  0.066975   3.823882    8.599983   52.361985   \n",
       "...       ...       ...       ...        ...         ...         ...   \n",
       "10942  270252  2.424044  0.218163  10.077711  172.488905  204.148419   \n",
       "10944  271623  2.666877  0.192752   4.405916  111.272850  217.611731   \n",
       "10945  271715  3.154176  0.089834  17.653518  241.722441   42.122387   \n",
       "10947  272554  2.630973  0.268370  12.324045  247.951634  198.002300   \n",
       "10948  272649  2.627101  0.179756   1.716052  337.449891  115.304961   \n",
       "\n",
       "              q        ad     per_y  data_arc  n_obs_used      H  albedo  \\\n",
       "75     2.315125  3.021097  4.358269   51236.0      2817.0   8.52  0.1770   \n",
       "141    2.554970  2.965745  4.586233   50966.0      2594.0   9.12  0.0440   \n",
       "153    1.992201  3.519784  4.575360   52511.0      2202.0  11.39  0.0270   \n",
       "156    2.722867  3.019032  4.864593   46100.0      2769.0   9.27  0.2130   \n",
       "158    2.545043  2.910424  4.505169   44502.0      2746.0   9.08  0.0625   \n",
       "...         ...       ...       ...       ...         ...    ...     ...   \n",
       "10942  1.895206  2.952881  3.774147    6521.0       407.0  16.30  0.0400   \n",
       "10944  2.152830  3.180924  4.355246    7637.0       308.0  16.30  0.0480   \n",
       "10945  2.870824  3.437529  5.601923    5408.0       331.0  14.90  0.0470   \n",
       "10947  1.924898  3.337048  4.267591    6318.0       506.0  15.30  0.2510   \n",
       "10948  2.154863  3.099339  4.258174    6243.0       202.0  17.30  0.0660   \n",
       "\n",
       "       rot_per      moid         n          per          ma  \n",
       "75      9.0120  1.329080  0.226151  1591.857740  283.372844  \n",
       "141    22.0050  1.575910  0.214910  1675.121685   81.082066  \n",
       "153     7.9597  1.025790  0.215420  1671.150404   89.093191  \n",
       "156    14.2180  1.735520  0.202612  1776.792538  215.300126  \n",
       "158    11.0330  1.559190  0.218777  1645.513140    3.820287  \n",
       "...        ...       ...       ...          ...         ...  \n",
       "10942  52.7380  0.899505  0.261152  1378.507338  251.341642  \n",
       "10944   7.4390  1.142610  0.226308  1590.753469  136.957597  \n",
       "10945  19.3570  1.877440  0.175944  2046.102395  286.839428  \n",
       "10947   4.9350  0.944417  0.230956  1558.737564   45.577334  \n",
       "10948   5.3300  1.172270  0.231467  1555.298161   36.953988  \n",
       "\n",
       "[4668 rows x 18 columns]"
      ]
     },
     "execution_count": 83,
     "metadata": {},
     "output_type": "execute_result"
    }
   ],
   "source": [
    "X"
   ]
  },
  {
   "cell_type": "markdown",
   "metadata": {},
   "source": [
    "### Geramos os folds para validação cruzada"
   ]
  },
  {
   "cell_type": "code",
   "execution_count": 84,
   "metadata": {},
   "outputs": [],
   "source": [
    "kf = KFold(n_splits=10, shuffle=True, random_state=111)"
   ]
  },
  {
   "cell_type": "code",
   "execution_count": 85,
   "metadata": {},
   "outputs": [],
   "source": [
    "def avalia_classificador(model, kf, X, y, function_RMSE):\n",
    "    metric_valid = []\n",
    "    metric_train = []\n",
    "    y_preds = np.zeros(X.shape[0])\n",
    "    # a cada iteração em kf, temos k-1 conjuntos para treino e 1 para validação\n",
    "    # train e valid recebem os indices de treino e validação em cada rodada.\n",
    "    for train, valid in kf.split(X,y):\n",
    "        x_train = X.iloc[train] # escolhe apenas os indices de treino\n",
    "        y_train = y.iloc[train]\n",
    "        x_valid = X.iloc[valid] # escolhe apenas os indices de validação\n",
    "        y_valid = y.iloc[valid]\n",
    "        model.fit(x_train, y_train) # treina o classificador com dados de treino\n",
    "        y_pred_train = model.predict(x_train) # faz predições nos dados de treino\n",
    "        y_pred_valid = model.predict(x_valid) # faz predições nos dados de validação\n",
    "        y_preds[valid] = y_pred_valid # guarda as previsões do fold corrente\n",
    "        \n",
    "        # salvando métricas obtidas no dado de treino (k-1 folds) e validação (1 fold)\n",
    "        metric_valid.append(function_RMSE(y_valid, y_pred_valid)) \n",
    "        metric_train.append(function_RMSE(y_train, y_pred_train)) \n",
    "    \n",
    "    # retorna as previsões e a média das métricas de treino e validação\n",
    "    # obtidas nas iterações do Kfold\n",
    "    return y_preds, np.array(metric_valid).mean(), np.array(metric_train).mean()"
   ]
  },
  {
   "cell_type": "code",
   "execution_count": 86,
   "metadata": {},
   "outputs": [],
   "source": [
    "from sklearn.metrics import mean_squared_error\n",
    "def function_RMSE(y_real, y_pred): \n",
    "    return mean_squared_error(y_real, y_pred)**0.5"
   ]
  },
  {
   "cell_type": "markdown",
   "metadata": {},
   "source": [
    "Modelos: \n",
    "\n",
    "* Modelos Lineares\n",
    "    * Regressão Linear\n",
    "* Modelos não-lineares    \n",
    "    * Árvores de decisão\n",
    "    * Random Forest\n",
    "    * Gradient Boosting\n",
    "    * SVM\n",
    "    * Redes Neurais"
   ]
  },
  {
   "cell_type": "markdown",
   "metadata": {},
   "source": [
    "#### Baseline"
   ]
  },
  {
   "cell_type": "code",
   "execution_count": 87,
   "metadata": {},
   "outputs": [],
   "source": [
    "media_valor_m2 = np.mean(y)"
   ]
  },
  {
   "cell_type": "code",
   "execution_count": 88,
   "metadata": {},
   "outputs": [
    {
     "name": "stdout",
     "output_type": "stream",
     "text": [
      "15.777051953283028\n"
     ]
    }
   ],
   "source": [
    "#Gera um vetor artificial com o valor da média repetido pelo número de linhas do nosso conjunto.\n",
    "y_media = np.array([media_valor_m2]*y.shape[0])\n",
    "\n",
    "#Calcula o desempenho como se a predição do modelo fosse o y médio\n",
    "print(function_RMSE(y, y_media))"
   ]
  },
  {
   "cell_type": "markdown",
   "metadata": {},
   "source": [
    "#### Regressão Linear"
   ]
  },
  {
   "cell_type": "markdown",
   "metadata": {},
   "source": [
    "Temos o seguinte modelo para estimar o diâmetro do asteroide:\n",
    "\n",
    "**diameter = β0 + β1 × 'data_arc' + β2 ×'n_obs_used' + β3 × 'a'....**"
   ]
  },
  {
   "cell_type": "code",
   "execution_count": 89,
   "metadata": {},
   "outputs": [],
   "source": [
    "from sklearn.linear_model import LinearRegression\n",
    "\n",
    "modelLinearRegression = LinearRegression(fit_intercept=True, normalize=True) "
   ]
  },
  {
   "cell_type": "code",
   "execution_count": 90,
   "metadata": {},
   "outputs": [
    {
     "name": "stdout",
     "output_type": "stream",
     "text": [
      "RMSE (validação):  7.644422661767545\n",
      "RMSE (treino):  7.609493230200696\n"
     ]
    },
    {
     "name": "stderr",
     "output_type": "stream",
     "text": [
      "C:\\Python39\\lib\\site-packages\\sklearn\\linear_model\\_base.py:141: FutureWarning: 'normalize' was deprecated in version 1.0 and will be removed in 1.2.\n",
      "If you wish to scale the data, use Pipeline with a StandardScaler in a preprocessing stage. To reproduce the previous behavior:\n",
      "\n",
      "from sklearn.pipeline import make_pipeline\n",
      "\n",
      "model = make_pipeline(StandardScaler(with_mean=False), LinearRegression())\n",
      "\n",
      "If you wish to pass a sample_weight parameter, you need to pass it as a fit parameter to each step of the pipeline as follows:\n",
      "\n",
      "kwargs = {s[0] + '__sample_weight': sample_weight for s in model.steps}\n",
      "model.fit(X, y, **kwargs)\n",
      "\n",
      "\n",
      "  warnings.warn(\n",
      "C:\\Python39\\lib\\site-packages\\sklearn\\linear_model\\_base.py:141: FutureWarning: 'normalize' was deprecated in version 1.0 and will be removed in 1.2.\n",
      "If you wish to scale the data, use Pipeline with a StandardScaler in a preprocessing stage. To reproduce the previous behavior:\n",
      "\n",
      "from sklearn.pipeline import make_pipeline\n",
      "\n",
      "model = make_pipeline(StandardScaler(with_mean=False), LinearRegression())\n",
      "\n",
      "If you wish to pass a sample_weight parameter, you need to pass it as a fit parameter to each step of the pipeline as follows:\n",
      "\n",
      "kwargs = {s[0] + '__sample_weight': sample_weight for s in model.steps}\n",
      "model.fit(X, y, **kwargs)\n",
      "\n",
      "\n",
      "  warnings.warn(\n",
      "C:\\Python39\\lib\\site-packages\\sklearn\\linear_model\\_base.py:141: FutureWarning: 'normalize' was deprecated in version 1.0 and will be removed in 1.2.\n",
      "If you wish to scale the data, use Pipeline with a StandardScaler in a preprocessing stage. To reproduce the previous behavior:\n",
      "\n",
      "from sklearn.pipeline import make_pipeline\n",
      "\n",
      "model = make_pipeline(StandardScaler(with_mean=False), LinearRegression())\n",
      "\n",
      "If you wish to pass a sample_weight parameter, you need to pass it as a fit parameter to each step of the pipeline as follows:\n",
      "\n",
      "kwargs = {s[0] + '__sample_weight': sample_weight for s in model.steps}\n",
      "model.fit(X, y, **kwargs)\n",
      "\n",
      "\n",
      "  warnings.warn(\n",
      "C:\\Python39\\lib\\site-packages\\sklearn\\linear_model\\_base.py:141: FutureWarning: 'normalize' was deprecated in version 1.0 and will be removed in 1.2.\n",
      "If you wish to scale the data, use Pipeline with a StandardScaler in a preprocessing stage. To reproduce the previous behavior:\n",
      "\n",
      "from sklearn.pipeline import make_pipeline\n",
      "\n",
      "model = make_pipeline(StandardScaler(with_mean=False), LinearRegression())\n",
      "\n",
      "If you wish to pass a sample_weight parameter, you need to pass it as a fit parameter to each step of the pipeline as follows:\n",
      "\n",
      "kwargs = {s[0] + '__sample_weight': sample_weight for s in model.steps}\n",
      "model.fit(X, y, **kwargs)\n",
      "\n",
      "\n",
      "  warnings.warn(\n",
      "C:\\Python39\\lib\\site-packages\\sklearn\\linear_model\\_base.py:141: FutureWarning: 'normalize' was deprecated in version 1.0 and will be removed in 1.2.\n",
      "If you wish to scale the data, use Pipeline with a StandardScaler in a preprocessing stage. To reproduce the previous behavior:\n",
      "\n",
      "from sklearn.pipeline import make_pipeline\n",
      "\n",
      "model = make_pipeline(StandardScaler(with_mean=False), LinearRegression())\n",
      "\n",
      "If you wish to pass a sample_weight parameter, you need to pass it as a fit parameter to each step of the pipeline as follows:\n",
      "\n",
      "kwargs = {s[0] + '__sample_weight': sample_weight for s in model.steps}\n",
      "model.fit(X, y, **kwargs)\n",
      "\n",
      "\n",
      "  warnings.warn(\n",
      "C:\\Python39\\lib\\site-packages\\sklearn\\linear_model\\_base.py:141: FutureWarning: 'normalize' was deprecated in version 1.0 and will be removed in 1.2.\n",
      "If you wish to scale the data, use Pipeline with a StandardScaler in a preprocessing stage. To reproduce the previous behavior:\n",
      "\n",
      "from sklearn.pipeline import make_pipeline\n",
      "\n",
      "model = make_pipeline(StandardScaler(with_mean=False), LinearRegression())\n",
      "\n",
      "If you wish to pass a sample_weight parameter, you need to pass it as a fit parameter to each step of the pipeline as follows:\n",
      "\n",
      "kwargs = {s[0] + '__sample_weight': sample_weight for s in model.steps}\n",
      "model.fit(X, y, **kwargs)\n",
      "\n",
      "\n",
      "  warnings.warn(\n",
      "C:\\Python39\\lib\\site-packages\\sklearn\\linear_model\\_base.py:141: FutureWarning: 'normalize' was deprecated in version 1.0 and will be removed in 1.2.\n",
      "If you wish to scale the data, use Pipeline with a StandardScaler in a preprocessing stage. To reproduce the previous behavior:\n",
      "\n",
      "from sklearn.pipeline import make_pipeline\n",
      "\n",
      "model = make_pipeline(StandardScaler(with_mean=False), LinearRegression())\n",
      "\n",
      "If you wish to pass a sample_weight parameter, you need to pass it as a fit parameter to each step of the pipeline as follows:\n",
      "\n",
      "kwargs = {s[0] + '__sample_weight': sample_weight for s in model.steps}\n",
      "model.fit(X, y, **kwargs)\n",
      "\n",
      "\n",
      "  warnings.warn(\n",
      "C:\\Python39\\lib\\site-packages\\sklearn\\linear_model\\_base.py:141: FutureWarning: 'normalize' was deprecated in version 1.0 and will be removed in 1.2.\n",
      "If you wish to scale the data, use Pipeline with a StandardScaler in a preprocessing stage. To reproduce the previous behavior:\n",
      "\n",
      "from sklearn.pipeline import make_pipeline\n",
      "\n",
      "model = make_pipeline(StandardScaler(with_mean=False), LinearRegression())\n",
      "\n",
      "If you wish to pass a sample_weight parameter, you need to pass it as a fit parameter to each step of the pipeline as follows:\n",
      "\n",
      "kwargs = {s[0] + '__sample_weight': sample_weight for s in model.steps}\n",
      "model.fit(X, y, **kwargs)\n",
      "\n",
      "\n",
      "  warnings.warn(\n",
      "C:\\Python39\\lib\\site-packages\\sklearn\\linear_model\\_base.py:141: FutureWarning: 'normalize' was deprecated in version 1.0 and will be removed in 1.2.\n",
      "If you wish to scale the data, use Pipeline with a StandardScaler in a preprocessing stage. To reproduce the previous behavior:\n",
      "\n",
      "from sklearn.pipeline import make_pipeline\n",
      "\n",
      "model = make_pipeline(StandardScaler(with_mean=False), LinearRegression())\n",
      "\n",
      "If you wish to pass a sample_weight parameter, you need to pass it as a fit parameter to each step of the pipeline as follows:\n",
      "\n",
      "kwargs = {s[0] + '__sample_weight': sample_weight for s in model.steps}\n",
      "model.fit(X, y, **kwargs)\n",
      "\n",
      "\n",
      "  warnings.warn(\n",
      "C:\\Python39\\lib\\site-packages\\sklearn\\linear_model\\_base.py:141: FutureWarning: 'normalize' was deprecated in version 1.0 and will be removed in 1.2.\n",
      "If you wish to scale the data, use Pipeline with a StandardScaler in a preprocessing stage. To reproduce the previous behavior:\n",
      "\n",
      "from sklearn.pipeline import make_pipeline\n",
      "\n",
      "model = make_pipeline(StandardScaler(with_mean=False), LinearRegression())\n",
      "\n",
      "If you wish to pass a sample_weight parameter, you need to pass it as a fit parameter to each step of the pipeline as follows:\n",
      "\n",
      "kwargs = {s[0] + '__sample_weight': sample_weight for s in model.steps}\n",
      "model.fit(X, y, **kwargs)\n",
      "\n",
      "\n",
      "  warnings.warn(\n"
     ]
    }
   ],
   "source": [
    "preds, rmse_val, rmse_train = avalia_classificador(modelLinearRegression, kf, X, y, function_RMSE) # treina, valida e calcula desempenho\n",
    "print('RMSE (validação): ', rmse_val)\n",
    "print('RMSE (treino): ', rmse_train)"
   ]
  },
  {
   "cell_type": "code",
   "execution_count": 91,
   "metadata": {},
   "outputs": [
    {
     "name": "stdout",
     "output_type": "stream",
     "text": [
      "             Coefficient\n",
      "index       5.029859e-05\n",
      "a          -8.987151e+14\n",
      "e          -1.148737e+01\n",
      "i          -2.926201e-01\n",
      "om         -2.756503e-03\n",
      "w           1.968880e-04\n",
      "q           4.493576e+14\n",
      "ad          4.493576e+14\n",
      "per_y       1.124608e+13\n",
      "data_arc    1.112772e-04\n",
      "n_obs_used -7.395635e-03\n",
      "H          -1.081003e+01\n",
      "albedo     -3.091836e+01\n",
      "rot_per    -3.173511e-03\n",
      "moid       -1.732654e+00\n",
      "n           1.743630e+02\n",
      "per        -3.079010e+10\n",
      "ma         -2.552791e-03\n"
     ]
    }
   ],
   "source": [
    "coeff_df = pd.DataFrame(modelLinearRegression.coef_,X.columns,columns=['Coefficient'])\n",
    "print(coeff_df)"
   ]
  },
  {
   "cell_type": "code",
   "execution_count": 92,
   "metadata": {},
   "outputs": [
    {
     "name": "stdout",
     "output_type": "stream",
     "text": [
      "Número de atributos após transformação: 190\n"
     ]
    },
    {
     "name": "stderr",
     "output_type": "stream",
     "text": [
      "C:\\Python39\\lib\\site-packages\\sklearn\\linear_model\\_base.py:141: FutureWarning: 'normalize' was deprecated in version 1.0 and will be removed in 1.2.\n",
      "If you wish to scale the data, use Pipeline with a StandardScaler in a preprocessing stage. To reproduce the previous behavior:\n",
      "\n",
      "from sklearn.pipeline import make_pipeline\n",
      "\n",
      "model = make_pipeline(StandardScaler(with_mean=False), LinearRegression())\n",
      "\n",
      "If you wish to pass a sample_weight parameter, you need to pass it as a fit parameter to each step of the pipeline as follows:\n",
      "\n",
      "kwargs = {s[0] + '__sample_weight': sample_weight for s in model.steps}\n",
      "model.fit(X, y, **kwargs)\n",
      "\n",
      "\n",
      "  warnings.warn(\n",
      "C:\\Python39\\lib\\site-packages\\sklearn\\linear_model\\_base.py:141: FutureWarning: 'normalize' was deprecated in version 1.0 and will be removed in 1.2.\n",
      "If you wish to scale the data, use Pipeline with a StandardScaler in a preprocessing stage. To reproduce the previous behavior:\n",
      "\n",
      "from sklearn.pipeline import make_pipeline\n",
      "\n",
      "model = make_pipeline(StandardScaler(with_mean=False), LinearRegression())\n",
      "\n",
      "If you wish to pass a sample_weight parameter, you need to pass it as a fit parameter to each step of the pipeline as follows:\n",
      "\n",
      "kwargs = {s[0] + '__sample_weight': sample_weight for s in model.steps}\n",
      "model.fit(X, y, **kwargs)\n",
      "\n",
      "\n",
      "  warnings.warn(\n",
      "C:\\Python39\\lib\\site-packages\\sklearn\\linear_model\\_base.py:141: FutureWarning: 'normalize' was deprecated in version 1.0 and will be removed in 1.2.\n",
      "If you wish to scale the data, use Pipeline with a StandardScaler in a preprocessing stage. To reproduce the previous behavior:\n",
      "\n",
      "from sklearn.pipeline import make_pipeline\n",
      "\n",
      "model = make_pipeline(StandardScaler(with_mean=False), LinearRegression())\n",
      "\n",
      "If you wish to pass a sample_weight parameter, you need to pass it as a fit parameter to each step of the pipeline as follows:\n",
      "\n",
      "kwargs = {s[0] + '__sample_weight': sample_weight for s in model.steps}\n",
      "model.fit(X, y, **kwargs)\n",
      "\n",
      "\n",
      "  warnings.warn(\n",
      "C:\\Python39\\lib\\site-packages\\sklearn\\linear_model\\_base.py:141: FutureWarning: 'normalize' was deprecated in version 1.0 and will be removed in 1.2.\n",
      "If you wish to scale the data, use Pipeline with a StandardScaler in a preprocessing stage. To reproduce the previous behavior:\n",
      "\n",
      "from sklearn.pipeline import make_pipeline\n",
      "\n",
      "model = make_pipeline(StandardScaler(with_mean=False), LinearRegression())\n",
      "\n",
      "If you wish to pass a sample_weight parameter, you need to pass it as a fit parameter to each step of the pipeline as follows:\n",
      "\n",
      "kwargs = {s[0] + '__sample_weight': sample_weight for s in model.steps}\n",
      "model.fit(X, y, **kwargs)\n",
      "\n",
      "\n",
      "  warnings.warn(\n",
      "C:\\Python39\\lib\\site-packages\\sklearn\\linear_model\\_base.py:141: FutureWarning: 'normalize' was deprecated in version 1.0 and will be removed in 1.2.\n",
      "If you wish to scale the data, use Pipeline with a StandardScaler in a preprocessing stage. To reproduce the previous behavior:\n",
      "\n",
      "from sklearn.pipeline import make_pipeline\n",
      "\n",
      "model = make_pipeline(StandardScaler(with_mean=False), LinearRegression())\n",
      "\n",
      "If you wish to pass a sample_weight parameter, you need to pass it as a fit parameter to each step of the pipeline as follows:\n",
      "\n",
      "kwargs = {s[0] + '__sample_weight': sample_weight for s in model.steps}\n",
      "model.fit(X, y, **kwargs)\n",
      "\n",
      "\n",
      "  warnings.warn(\n",
      "C:\\Python39\\lib\\site-packages\\sklearn\\linear_model\\_base.py:141: FutureWarning: 'normalize' was deprecated in version 1.0 and will be removed in 1.2.\n",
      "If you wish to scale the data, use Pipeline with a StandardScaler in a preprocessing stage. To reproduce the previous behavior:\n",
      "\n",
      "from sklearn.pipeline import make_pipeline\n",
      "\n",
      "model = make_pipeline(StandardScaler(with_mean=False), LinearRegression())\n",
      "\n",
      "If you wish to pass a sample_weight parameter, you need to pass it as a fit parameter to each step of the pipeline as follows:\n",
      "\n",
      "kwargs = {s[0] + '__sample_weight': sample_weight for s in model.steps}\n",
      "model.fit(X, y, **kwargs)\n",
      "\n",
      "\n",
      "  warnings.warn(\n",
      "C:\\Python39\\lib\\site-packages\\sklearn\\linear_model\\_base.py:141: FutureWarning: 'normalize' was deprecated in version 1.0 and will be removed in 1.2.\n",
      "If you wish to scale the data, use Pipeline with a StandardScaler in a preprocessing stage. To reproduce the previous behavior:\n",
      "\n",
      "from sklearn.pipeline import make_pipeline\n",
      "\n",
      "model = make_pipeline(StandardScaler(with_mean=False), LinearRegression())\n",
      "\n",
      "If you wish to pass a sample_weight parameter, you need to pass it as a fit parameter to each step of the pipeline as follows:\n",
      "\n",
      "kwargs = {s[0] + '__sample_weight': sample_weight for s in model.steps}\n",
      "model.fit(X, y, **kwargs)\n",
      "\n",
      "\n",
      "  warnings.warn(\n",
      "C:\\Python39\\lib\\site-packages\\sklearn\\linear_model\\_base.py:141: FutureWarning: 'normalize' was deprecated in version 1.0 and will be removed in 1.2.\n",
      "If you wish to scale the data, use Pipeline with a StandardScaler in a preprocessing stage. To reproduce the previous behavior:\n",
      "\n",
      "from sklearn.pipeline import make_pipeline\n",
      "\n",
      "model = make_pipeline(StandardScaler(with_mean=False), LinearRegression())\n",
      "\n",
      "If you wish to pass a sample_weight parameter, you need to pass it as a fit parameter to each step of the pipeline as follows:\n",
      "\n",
      "kwargs = {s[0] + '__sample_weight': sample_weight for s in model.steps}\n",
      "model.fit(X, y, **kwargs)\n",
      "\n",
      "\n",
      "  warnings.warn(\n",
      "C:\\Python39\\lib\\site-packages\\sklearn\\linear_model\\_base.py:141: FutureWarning: 'normalize' was deprecated in version 1.0 and will be removed in 1.2.\n",
      "If you wish to scale the data, use Pipeline with a StandardScaler in a preprocessing stage. To reproduce the previous behavior:\n",
      "\n",
      "from sklearn.pipeline import make_pipeline\n",
      "\n",
      "model = make_pipeline(StandardScaler(with_mean=False), LinearRegression())\n",
      "\n",
      "If you wish to pass a sample_weight parameter, you need to pass it as a fit parameter to each step of the pipeline as follows:\n",
      "\n",
      "kwargs = {s[0] + '__sample_weight': sample_weight for s in model.steps}\n",
      "model.fit(X, y, **kwargs)\n",
      "\n",
      "\n",
      "  warnings.warn(\n",
      "C:\\Python39\\lib\\site-packages\\sklearn\\linear_model\\_base.py:141: FutureWarning: 'normalize' was deprecated in version 1.0 and will be removed in 1.2.\n",
      "If you wish to scale the data, use Pipeline with a StandardScaler in a preprocessing stage. To reproduce the previous behavior:\n",
      "\n",
      "from sklearn.pipeline import make_pipeline\n",
      "\n",
      "model = make_pipeline(StandardScaler(with_mean=False), LinearRegression())\n",
      "\n",
      "If you wish to pass a sample_weight parameter, you need to pass it as a fit parameter to each step of the pipeline as follows:\n",
      "\n",
      "kwargs = {s[0] + '__sample_weight': sample_weight for s in model.steps}\n",
      "model.fit(X, y, **kwargs)\n",
      "\n",
      "\n",
      "  warnings.warn(\n"
     ]
    },
    {
     "name": "stdout",
     "output_type": "stream",
     "text": [
      "RMSE (validação):  3.605040478740431\n",
      "RMSE (treino):  3.3251411438096374\n"
     ]
    }
   ],
   "source": [
    "from sklearn.preprocessing import PolynomialFeatures\n",
    "from sklearn.preprocessing import StandardScaler, MinMaxScaler\n",
    "\n",
    "# Cria uma nova matriz de atributos com as features polinomiais de grau 2\n",
    "X_new = PolynomialFeatures(2).fit_transform(X) \n",
    "\n",
    "# Reescalona os dados entre 0 e 1 (valor padrão do MinMaxScaler)\n",
    "X_new = MinMaxScaler().fit_transform(X_new)\n",
    "X_new = pd.DataFrame(X_new)\n",
    "print('Número de atributos após transformação:', X_new.shape[1])\n",
    "preds, rmse_val, rmse_train = avalia_classificador(modelLinearRegression, kf, X_new, y, function_RMSE) \n",
    "print('RMSE (validação): ', rmse_val)\n",
    "print('RMSE (treino): ', rmse_train)"
   ]
  },
  {
   "cell_type": "code",
   "execution_count": 93,
   "metadata": {},
   "outputs": [
    {
     "data": {
      "image/png": "[encoded data removed]",
      "text/plain": [
       "<Figure size 432x288 with 1 Axes>"
      ]
     },
     "metadata": {
      "needs_background": "light"
     },
     "output_type": "display_data"
    }
   ],
   "source": [
    "plt.scatter(preds, y);\n",
    "plt.plot(preds,preds, c ='r')\n",
    "ax = plt.gca()\n",
    "ax.set_xlim([-50, 200])\n",
    "ax.set_ylim([-20, 120])\n",
    "\n",
    "plt.show()"
   ]
  },
  {
   "cell_type": "markdown",
   "metadata": {},
   "source": [
    "#### Árvore de decisão"
   ]
  },
  {
   "cell_type": "code",
   "execution_count": 94,
   "metadata": {},
   "outputs": [],
   "source": [
    "from sklearn import tree\n",
    "modelTreeDecision = tree.DecisionTreeRegressor(max_features=5, max_depth=3, random_state=10)"
   ]
  },
  {
   "cell_type": "code",
   "execution_count": 95,
   "metadata": {},
   "outputs": [
    {
     "name": "stdout",
     "output_type": "stream",
     "text": [
      "RMSE (validação):  10.047796281090545\n",
      "RMSE (treino):  9.510884876684859\n"
     ]
    }
   ],
   "source": [
    "preds, rmse_val, rmse_train = avalia_classificador(modelTreeDecision, kf, X, y, function_RMSE) \n",
    "print('RMSE (validação): ', rmse_val)\n",
    "print('RMSE (treino): ', rmse_train)"
   ]
  },
  {
   "cell_type": "code",
   "execution_count": 96,
   "metadata": {},
   "outputs": [
    {
     "ename": "ModuleNotFoundError",
     "evalue": "No module named 'graphviz'",
     "output_type": "error",
     "traceback": [
      "\u001b[1;31m---------------------------------------------------------------------------\u001b[0m",
      "\u001b[1;31mModuleNotFoundError\u001b[0m                       Traceback (most recent call last)",
      "\u001b[1;32mC:\\Users\\NAYARA~1.GOM\\AppData\\Local\\Temp/ipykernel_7980/2260354242.py\u001b[0m in \u001b[0;36m<module>\u001b[1;34m\u001b[0m\n\u001b[1;32m----> 1\u001b[1;33m \u001b[1;32mimport\u001b[0m \u001b[0mgraphviz\u001b[0m\u001b[1;33m\u001b[0m\u001b[1;33m\u001b[0m\u001b[0m\n\u001b[0m\u001b[0;32m      2\u001b[0m \u001b[1;33m\u001b[0m\u001b[0m\n\u001b[0;32m      3\u001b[0m \u001b[1;32mimport\u001b[0m \u001b[0mos\u001b[0m\u001b[1;33m\u001b[0m\u001b[1;33m\u001b[0m\u001b[0m\n\u001b[0;32m      4\u001b[0m \u001b[0mos\u001b[0m\u001b[1;33m.\u001b[0m\u001b[0menviron\u001b[0m\u001b[1;33m[\u001b[0m\u001b[1;34m\"PATH\"\u001b[0m\u001b[1;33m]\u001b[0m \u001b[1;33m+=\u001b[0m \u001b[0mos\u001b[0m\u001b[1;33m.\u001b[0m\u001b[0mpathsep\u001b[0m \u001b[1;33m+\u001b[0m \u001b[1;34m'C:/Program Files/Graphviz/bin/'\u001b[0m\u001b[1;33m\u001b[0m\u001b[1;33m\u001b[0m\u001b[0m\n\u001b[0;32m      5\u001b[0m \u001b[1;33m\u001b[0m\u001b[0m\n",
      "\u001b[1;31mModuleNotFoundError\u001b[0m: No module named 'graphviz'"
     ]
    }
   ],
   "source": [
    "import graphviz \n",
    "\n",
    "import os\n",
    "os.environ[\"PATH\"] += os.pathsep + 'C:/Program Files/Graphviz/bin/'\n",
    "\n",
    "columns = ['a', 'e', 'i', 'om', 'w', 'q', 'ad', 'per_y', 'data_arc', 'n_obs_used', 'H', 'diameter','albedo', 'rot_per','moid', 'n', 'per', 'ma']\n",
    "\n",
    "dot_data = tree.export_graphviz(modelTreeDecision, out_file=None, \n",
    "                                feature_names=columns,  \n",
    "                                filled=True, rounded=True,  \n",
    "                                special_characters=True)  \n",
    "graph = graphviz.Source(dot_data)  \n",
    "graph"
   ]
  },
  {
   "cell_type": "markdown",
   "metadata": {},
   "source": [
    "#### Random Forest "
   ]
  },
  {
   "cell_type": "code",
   "execution_count": null,
   "metadata": {},
   "outputs": [],
   "source": [
    "from sklearn.ensemble import RandomForestRegressor\n",
    "\n",
    "modelRandomForest = RandomForestRegressor(n_estimators=100, random_state=26)"
   ]
  },
  {
   "cell_type": "code",
   "execution_count": null,
   "metadata": {},
   "outputs": [],
   "source": [
    "preds, rmse_val, rmse_train = avalia_classificador(modelRandomForest, kf, X, y, function_RMSE) \n",
    "print('RMSE (validação): ', rmse_val)\n",
    "print('RMSE (treino): ', rmse_train)"
   ]
  },
  {
   "cell_type": "markdown",
   "metadata": {},
   "source": [
    "#### Gradient Boosting"
   ]
  },
  {
   "cell_type": "code",
   "execution_count": null,
   "metadata": {},
   "outputs": [],
   "source": [
    "from sklearn.ensemble import GradientBoostingRegressor\n",
    "modelGradientBoosting = GradientBoostingRegressor(learning_rate=0.015, max_depth=3, max_features = 18, min_samples_leaf=1,n_estimators=1500, random_state=2,subsample = 0.2)"
   ]
  },
  {
   "cell_type": "code",
   "execution_count": null,
   "metadata": {},
   "outputs": [],
   "source": [
    "preds, rmse_val, rmse_train = avalia_classificador(modelGradientBoosting, kf, X, y, function_RMSE) \n",
    "print('RMSE (validação): ', rmse_val)\n",
    "print('RMSE (treino): ', rmse_train)"
   ]
  },
  {
   "cell_type": "markdown",
   "metadata": {},
   "source": [
    "#### SVM"
   ]
  },
  {
   "cell_type": "code",
   "execution_count": null,
   "metadata": {},
   "outputs": [],
   "source": [
    "from sklearn import svm\n",
    "modelSVM = svm.SVR(gamma='auto')"
   ]
  },
  {
   "cell_type": "code",
   "execution_count": null,
   "metadata": {},
   "outputs": [],
   "source": [
    "preds, rmse_val, rmse_train = avalia_classificador(modelSVM, kf, X, y, function_RMSE) \n",
    "print('RMSE (validação): ', rmse_val)\n",
    "print('RMSE (treino): ', rmse_train)"
   ]
  },
  {
   "cell_type": "markdown",
   "metadata": {},
   "source": [
    "#### Redes Neurais"
   ]
  },
  {
   "cell_type": "code",
   "execution_count": null,
   "metadata": {
    "scrolled": true
   },
   "outputs": [],
   "source": [
    "from keras.models import Sequential\n",
    "from keras.layers import Dense\n",
    "\n",
    "modelRedesNeurais = Sequential()\n",
    "modelRedesNeurais.add(Dense(units=9, activation='relu', input_dim = 18))\n",
    "modelRedesNeurais.add(Dense(units=9, activation='relu'))\n",
    "#activation='linear' não faz nenhum calculo adicional\n",
    "modelRedesNeurais.add(Dense(units=1, activation='linear'))\n",
    "#mean_absolute_error = considera a média dos erros com valores absolutos.\n",
    "modelRedesNeurais.compile(loss='mean_absolute_error', optimizer='adam', metrics=['mean_absolute_error','acc'])\n",
    "#batch_size = numero de execuções antes de atualizar os erros."
   ]
  },
  {
   "cell_type": "code",
   "execution_count": null,
   "metadata": {},
   "outputs": [],
   "source": [
    "preds, rmse_val, rmse_train = avalia_classificador(modelRedesNeurais, kf, X, y, function_RMSE) \n",
    "print('RMSE (validação): ', rmse_val)\n",
    "print('RMSE (treino): ', rmse_train)"
   ]
  },
  {
   "cell_type": "code",
   "execution_count": null,
   "metadata": {},
   "outputs": [],
   "source": []
  }
 ],
 "metadata": {
  "interpreter": {
   "hash": "ea3feb93049955c9508c5a2747c4309f27351fdb270bf15d30dfc831071eb49c"
  },
  "kernelspec": {
   "display_name": "Python 3 (ipykernel)",
   "language": "python",
   "name": "python3"
  },
  "language_info": {
   "codemirror_mode": {
    "name": "ipython",
    "version": 3
   },
   "file_extension": ".py",
   "mimetype": "text/x-python",
   "name": "python",
   "nbconvert_exporter": "python",
   "pygments_lexer": "ipython3",
   "version": "3.9.7"
  }
 },
 "nbformat": 4,
 "nbformat_minor": 2
}
